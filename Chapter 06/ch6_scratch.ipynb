{
 "cells": [
  {
   "cell_type": "code",
   "execution_count": 32,
   "id": "8de612de",
   "metadata": {},
   "outputs": [
    {
     "name": "stdout",
     "output_type": "stream",
     "text": [
      "1 10\n",
      "50 50\n"
     ]
    },
    {
     "data": {
      "text/plain": [
       "Vec2(3.0, 4.0)"
      ]
     },
     "execution_count": 32,
     "metadata": {},
     "output_type": "execute_result"
    }
   ],
   "source": [
    "class Vec2():\n",
    "    def __init__(self,x,y):\n",
    "        self.x=x\n",
    "        self.y=y\n",
    "    \n",
    "    def add(self, v2):\n",
    "        return Vec2(self.x+v2.x, self.y+v2.y)\n",
    "    \n",
    "    def scale(self, scalar):\n",
    "        return Vec2(scalar * self.x, scalar * self.y)\n",
    "    \n",
    "    def __eq__(self, other):\n",
    "        return self.x == other.x and self.y == other.y\n",
    "    \n",
    "    def __add__(self, v2):\n",
    "        return self.add(v2)\n",
    "    def __mul__(self, scalar):\n",
    "        return self.scale(scalar)\n",
    "    def __rmul__(self, scalar):\n",
    "        return self.scale(scalar)\n",
    "    def __repr__(self):\n",
    "        return f\"Vec2({self.x}, {self.y})\"\n",
    "\n",
    "v = Vec2(3,4)\n",
    "w = v.add(Vec2(-2,6))\n",
    "print(w.x, w.y)\n",
    "\n",
    "v = Vec2(1,1).scale(50)\n",
    "print(v.x,v.y)\n",
    "\n",
    "Vec2(3,4) == Vec2(3,4)\n",
    "\n",
    "3.0 * Vec2(1,0) + 4.0 * Vec2(0,1)"
   ]
  },
  {
   "cell_type": "code",
   "execution_count": 33,
   "id": "02ab3047",
   "metadata": {},
   "outputs": [],
   "source": [
    "class Vec3():\n",
    "    def __init__(self,x,y,z): #1\n",
    "        self.x = x\n",
    "        self.y = y\n",
    "        self.z = z\n",
    "    def add(self, other):\n",
    "        return Vec3(self.x + other.x, self.y + other.y, self.z + other.z)\n",
    "    def scale(self, scalar):\n",
    "        return Vec3(scalar * self.x, scalar * self.y, scalar * self.z)\n",
    "    def __eq__(self,other):\n",
    "        return (self.x == other.x\n",
    "            and self.y == other.y\n",
    "            and self.z == other.z)\n",
    "    def __add__(self, other):\n",
    "        return self.add(other)\n",
    "    def __mul__(self, scalar):\n",
    "        return self.scale(scalar)\n",
    "    def __rmul__(self,scalar):\n",
    "        return self.scale(scalar)\n",
    "    def __repr__(self):\n",
    "        return \"Vec3({},{},{})\".format(self.x,self.y, self.z)"
   ]
  },
  {
   "cell_type": "code",
   "execution_count": null,
   "id": "fcb1c5c9",
   "metadata": {},
   "outputs": [],
   "source": [
    "from abc import ABCMeta, abstractmethod\n",
    "\n",
    "class Vector(metaclass=ABCMeta):\n",
    "    @abstractmethod\n",
    "    def scale(self,scalar):\n",
    "        pass\n",
    "    @abstractmethod\n",
    "    def add(self,other):\n",
    "        pass\n",
    "    @property\n",
    "    @abstractmethod\n",
    "    def zero(self):\n",
    "        pass\n",
    "    def __mul__(self, scalar):\n",
    "        return self.scale(scalar)\n",
    "    def __rmul__(self, scalar):\n",
    "        return self.scale(scalar)\n",
    "    def __add__(self,other):\n",
    "        return self.add(other)\n",
    "    def subtract(self,other):\n",
    "        return self.add(-1 * other)\n",
    "    def __sub__(self,other):\n",
    "        return self.subtract(other)\n",
    "    def __neg__(self):\n",
    "        return self.scale(-1)\n",
    "    def __truediv__(self, scalar):\n",
    "        return self.scale(1.0/scalar)\n",
    "\n",
    "class Vec2(Vector):\n",
    "    def __init__(self,x,y):\n",
    "        self.x=x\n",
    "        self.y=y\n",
    "    def add(self, v2):\n",
    "        return Vec2(self.x+v2.x, self.y+v2.y)\n",
    "    \n",
    "    def scale(self, scalar):\n",
    "        return Vec2(scalar * self.x, scalar * self.y)\n",
    "    def __eq__(self, other):\n",
    "        return self.x == other.x and self.y == other.y\n",
    "    def __repr__(self):\n",
    "        return f\"Vec2({self.x}, {self.y})\"\n",
    "    def zero():\n",
    "        return Vec3(0,0)\n",
    "    \n",
    "class Vec3(Vector):\n",
    "    def __init__(self,x,y,z): #1\n",
    "        self.x = x\n",
    "        self.y = y\n",
    "        self.z = z\n",
    "    def add(self, other):\n",
    "        return Vec3(self.x + other.x, self.y + other.y, self.z + other.z)\n",
    "    def scale(self, scalar):\n",
    "        return Vec3(scalar * self.x, scalar * self.y, scalar * self.z)\n",
    "    def __eq__(self,other):\n",
    "        return (self.x == other.x\n",
    "            and self.y == other.y\n",
    "            and self.z == other.z)\n",
    "    def __repr__(self):\n",
    "        return \"Vec3({},{},{})\".format(self.x,self.y, self.z)\n",
    "    def zero():\n",
    "        return Vec3(0,0,0)"
   ]
  },
  {
   "cell_type": "code",
   "execution_count": 37,
   "id": "4dca13a5",
   "metadata": {},
   "outputs": [],
   "source": [
    "from vectors import *\n",
    "\n",
    "class CoordinateVector(Vector):\n",
    "    @property\n",
    "    @abstractmethod\n",
    "    def dimension(self):\n",
    "        pass\n",
    "    def __init__(self,*coordinates):\n",
    "        self.coordinates = tuple(x for x in coordinates)\n",
    "    def add(self, other):\n",
    "        return self.__class__(*add(self.coordinates, other.coordinates))\n",
    "    def scale(self,scalar):\n",
    "        return self.__class__(*scale(scalar, self.coordinates))\n",
    "    def scale(self,scalar):\n",
    "        return self.__class__(*scale(scalar, self.coordinates))\n",
    "    def __repr__(self):\n",
    "        return \"{}{}\".format(self.__class__.__qualname__,\n",
    "            self.coordinates)"
   ]
  },
  {
   "cell_type": "code",
   "execution_count": null,
   "id": "d2300c62",
   "metadata": {},
   "outputs": [
    {
     "data": {
      "text/plain": [
       "Vec6(2, 4, 6, 8, 10, 12)"
      ]
     },
     "execution_count": 18,
     "metadata": {},
     "output_type": "execute_result"
    }
   ],
   "source": [
    "class Vec6(CoordinateVector):\n",
    "    def dimension(self):\n",
    "        return 6\n",
    "    \n",
    "Vec6(1,2,3,4,5,6) + Vec6(1, 2, 3, 4, 5, 6)"
   ]
  },
  {
   "cell_type": "code",
   "execution_count": null,
   "id": "f8fc7e91",
   "metadata": {},
   "outputs": [],
   "source": [
    "from random import uniform\n",
    "def random_scalar():\n",
    "    return uniform(-10,10)\n",
    "def random_vec2():\n",
    "    return Vec2(random_scalar(),random_scalar())\n",
    "\n",
    "from math import isclose\n",
    "\n",
    "def approx_equal_vec2(v,w):\n",
    "    return isclose(v.x,w.x) and isclose(v.y,w.y)\n",
    "\n",
    "for _ in range(0,100):\n",
    "    a = random_scalar()\n",
    "    u, v = random_vec2(), random_vec2()\n",
    "    assert approx_equal_vec2(a * (u + v),\n",
    "                a * v + a * u)\n",
    "    \n",
    "def test(eq, a, b, u, v, w):\n",
    "    assert eq(u + v, v + u)\n",
    "    assert eq(u + (v + w), (u + v) + w)\n",
    "    assert eq(a * (b * v), (a * b) * v)\n",
    "    assert eq(1 * v, v)\n",
    "    assert eq((a + b) * v, a * v + b * v)\n",
    "    assert eq(a * v + a * w, a * (v + w))\n",
    "\n",
    "for i in range(0,100):\n",
    "    a,b = random_scalar(), random_scalar()\n",
    "    u,v,w = random_vec2(), random_vec2(), random_vec2()\n",
    "    test(approx_equal_vec2,a,b,u,v,w)"
   ]
  },
  {
   "cell_type": "code",
   "execution_count": 38,
   "id": "2071a6b3",
   "metadata": {},
   "outputs": [],
   "source": [
    "def random_vec3():\n",
    "    return Vec3(random_scalar(),random_scalar(),random_scalar())\n",
    "\n",
    "def approx_equal_vec2(v,w):\n",
    "    return isclose(v.x,w.x) and isclose(v.y,w.y) and isclose(v.z,w.z)\n",
    "\n",
    "def test(eq, a, b, u, v, w, zero):\n",
    "    assert eq(u + v, v + u)\n",
    "    assert eq(u + (v + w), (u + v) + w)\n",
    "    assert eq(a * (b * v), (a * b) * v)\n",
    "    assert eq(1 * v, v)\n",
    "    assert eq((a + b) * v, a * v + b * v)\n",
    "    assert eq(a * v + a * w, a * (v + w))\n",
    "    assert eq(zero + v, v)\n",
    "    assert eq(0 * v, zero)\n",
    "    assert eq(-v + v, zero)\n",
    "\n",
    "for i in range(0,100):\n",
    "    a,b = random_scalar(), random_scalar()\n",
    "    u,v,w = random_vec3(), random_vec3(), random_vec3()\n",
    "    zero = Vec3.zero()\n",
    "    test(approx_equal_vec2,a,b,u,v,w,zero)"
   ]
  },
  {
   "cell_type": "code",
   "execution_count": 44,
   "id": "6795aa8f",
   "metadata": {},
   "outputs": [
    {
     "ename": "TypeError",
     "evalue": "'int' object is not callable",
     "output_type": "error",
     "traceback": [
      "\u001b[31m---------------------------------------------------------------------------\u001b[39m",
      "\u001b[31mTypeError\u001b[39m                                 Traceback (most recent call last)",
      "\u001b[36mCell\u001b[39m\u001b[36m \u001b[39m\u001b[32mIn[44]\u001b[39m\u001b[32m, line 5\u001b[39m\n\u001b[32m      3\u001b[39m u,v,w = random_scalar(), random_scalar(), random_scalar()\n\u001b[32m      4\u001b[39m zero = \u001b[32m0\u001b[39m\n\u001b[32m----> \u001b[39m\u001b[32m5\u001b[39m \u001b[43mtest\u001b[49m\u001b[43m(\u001b[49m\u001b[32;43m0\u001b[39;49m\u001b[43m,\u001b[49m\u001b[43m \u001b[49m\u001b[43misclose\u001b[49m\u001b[43m,\u001b[49m\u001b[43m \u001b[49m\u001b[43ma\u001b[49m\u001b[43m,\u001b[49m\u001b[43mb\u001b[49m\u001b[43m,\u001b[49m\u001b[43mu\u001b[49m\u001b[43m,\u001b[49m\u001b[43mv\u001b[49m\u001b[43m,\u001b[49m\u001b[43mw\u001b[49m\u001b[43m)\u001b[49m\n",
      "\u001b[36mCell\u001b[39m\u001b[36m \u001b[39m\u001b[32mIn[43]\u001b[39m\u001b[32m, line 5\u001b[39m, in \u001b[36mtest\u001b[39m\u001b[34m(eq, a, b, u, v, w, zero)\u001b[39m\n\u001b[32m      4\u001b[39m \u001b[38;5;28;01mdef\u001b[39;00m\u001b[38;5;250m \u001b[39m\u001b[34mtest\u001b[39m(eq, a, b, u, v, w, zero=\u001b[32m0\u001b[39m):\n\u001b[32m----> \u001b[39m\u001b[32m5\u001b[39m     \u001b[38;5;28;01massert\u001b[39;00m \u001b[43meq\u001b[49m\u001b[43m(\u001b[49m\u001b[43mu\u001b[49m\u001b[43m \u001b[49m\u001b[43m+\u001b[49m\u001b[43m \u001b[49m\u001b[43mv\u001b[49m\u001b[43m,\u001b[49m\u001b[43m \u001b[49m\u001b[43mv\u001b[49m\u001b[43m \u001b[49m\u001b[43m+\u001b[49m\u001b[43m \u001b[49m\u001b[43mu\u001b[49m\u001b[43m)\u001b[49m\n\u001b[32m      6\u001b[39m     \u001b[38;5;28;01massert\u001b[39;00m eq(u + (v + w), (u + v) + w)\n\u001b[32m      7\u001b[39m     \u001b[38;5;28;01massert\u001b[39;00m eq(a * (b * v), (a * b) * v)\n",
      "\u001b[31mTypeError\u001b[39m: 'int' object is not callable"
     ]
    }
   ],
   "source": [
    "for i in range(0,100):\n",
    "    a,b = random_scalar(), random_scalar()\n",
    "    u,v,w = random_scalar(), random_scalar(), random_scalar()\n",
    "    zero = 0\n",
    "    test(0, isclose, a,b,u,v,w)"
   ]
  },
  {
   "cell_type": "code",
   "execution_count": null,
   "id": "fc5c5a46",
   "metadata": {},
   "outputs": [],
   "source": []
  }
 ],
 "metadata": {
  "kernelspec": {
   "display_name": "Python 3",
   "language": "python",
   "name": "python3"
  },
  "language_info": {
   "codemirror_mode": {
    "name": "ipython",
    "version": 3
   },
   "file_extension": ".py",
   "mimetype": "text/x-python",
   "name": "python",
   "nbconvert_exporter": "python",
   "pygments_lexer": "ipython3",
   "version": "3.13.3"
  }
 },
 "nbformat": 4,
 "nbformat_minor": 5
}
