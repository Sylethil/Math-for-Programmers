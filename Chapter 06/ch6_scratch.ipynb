{
 "cells": [
  {
   "cell_type": "code",
   "execution_count": 24,
   "id": "8de612de",
   "metadata": {},
   "outputs": [
    {
     "name": "stdout",
     "output_type": "stream",
     "text": [
      "1 10\n",
      "50 50\n"
     ]
    },
    {
     "data": {
      "text/plain": [
       "Vec2(3.0, 4.0)"
      ]
     },
     "execution_count": 24,
     "metadata": {},
     "output_type": "execute_result"
    }
   ],
   "source": [
    "class Vec2():\n",
    "    def __init__(self,x,y):\n",
    "        self.x=x\n",
    "        self.y=y\n",
    "    \n",
    "    def add(self, v2):\n",
    "        return Vec2(self.x+v2.x, self.y+v2.y)\n",
    "    \n",
    "    def scale(self, scalar):\n",
    "        return Vec2(scalar * self.x, scalar * self.y)\n",
    "    \n",
    "    def __eq__(self, other):\n",
    "        return self.x == other.x and self.y == other.y\n",
    "    \n",
    "    def __add__(self, v2):\n",
    "        return self.add(v2)\n",
    "    def __mul__(self, scalar):\n",
    "        return self.scale(scalar)\n",
    "    def __rmul__(self, scalar):\n",
    "        return self.scale(scalar)\n",
    "    def __repr__(self):\n",
    "        return f\"Vec2({self.x}, {self.y})\"\n",
    "\n",
    "v = Vec2(3,4)\n",
    "w = v.add(Vec2(-2,6))\n",
    "print(w.x, w.y)\n",
    "\n",
    "v = Vec2(1,1).scale(50)\n",
    "print(v.x,v.y)\n",
    "\n",
    "Vec2(3,4) == Vec2(3,4)\n",
    "\n",
    "3.0 * Vec2(1,0) + 4.0 * Vec2(0,1)"
   ]
  },
  {
   "cell_type": "code",
   "execution_count": 25,
   "id": "02ab3047",
   "metadata": {},
   "outputs": [],
   "source": [
    "class Vec3():\n",
    "    def __init__(self,x,y,z): #1\n",
    "        self.x = x\n",
    "        self.y = y\n",
    "        self.z = z\n",
    "    def add(self, other):\n",
    "        return Vec3(self.x + other.x, self.y + other.y, self.z + other.z)\n",
    "    def scale(self, scalar):\n",
    "        return Vec3(scalar * self.x, scalar * self.y, scalar * self.z)\n",
    "    def __eq__(self,other):\n",
    "        return (self.x == other.x\n",
    "            and self.y == other.y\n",
    "            and self.z == other.z)\n",
    "    def __add__(self, other):\n",
    "        return self.add(other)\n",
    "    def __mul__(self, scalar):\n",
    "        return self.scale(scalar)\n",
    "    def __rmul__(self,scalar):\n",
    "        return self.scale(scalar)\n",
    "    def __repr__(self):\n",
    "        return \"Vec3({},{},{})\".format(self.x,self.y, self.z)"
   ]
  },
  {
   "cell_type": "code",
   "execution_count": null,
   "id": "fcb1c5c9",
   "metadata": {},
   "outputs": [],
   "source": [
    "from abc import ABCMeta, abstractmethod\n",
    "\n",
    "class Vector(metaclass=ABCMeta):\n",
    "    @abstractmethod\n",
    "    def scale(self,scalar):\n",
    "        pass\n",
    "    @abstractmethod\n",
    "    def add(self,other):\n",
    "        pass\n",
    "    def __mul__(self, scalar):\n",
    "        return self.scale(scalar)\n",
    "    def __rmul__(self, scalar):\n",
    "        return self.scale(scalar)\n",
    "    def __add__(self,other):\n",
    "        return self.add(other)\n",
    "    def subtract(self,other):\n",
    "        return self.add(-1 * other)\n",
    "    def __sub__(self,other):\n",
    "        return self.subtract(other)\n",
    "\n",
    "class Vec2(Vector):\n",
    "    def __init__(self,x,y):\n",
    "        self.x=x\n",
    "        self.y=y\n",
    "    def add(self, v2):\n",
    "        return Vec2(self.x+v2.x, self.y+v2.y)\n",
    "    \n",
    "    def scale(self, scalar):\n",
    "        return Vec2(scalar * self.x, scalar * self.y)\n",
    "    def __eq__(self, other):\n",
    "        return self.x == other.x and self.y == other.y\n",
    "    def __repr__(self):\n",
    "        return f\"Vec2({self.x}, {self.y})\"\n",
    "    \n",
    "class Vec3(Vector):\n",
    "    def __init__(self,x,y,z): #1\n",
    "        self.x = x\n",
    "        self.y = y\n",
    "        self.z = z\n",
    "    def add(self, other):\n",
    "        return Vec3(self.x + other.x, self.y + other.y, self.z + other.z)\n",
    "    def scale(self, scalar):\n",
    "        return Vec3(scalar * self.x, scalar * self.y, scalar * self.z)\n",
    "    def __eq__(self,other):\n",
    "        return (self.x == other.x\n",
    "            and self.y == other.y\n",
    "            and self.z == other.z)\n",
    "    def __repr__(self):\n",
    "        return \"Vec3({},{},{})\".format(self.x,self.y, self.z)"
   ]
  }
 ],
 "metadata": {
  "kernelspec": {
   "display_name": "Python 3",
   "language": "python",
   "name": "python3"
  },
  "language_info": {
   "codemirror_mode": {
    "name": "ipython",
    "version": 3
   },
   "file_extension": ".py",
   "mimetype": "text/x-python",
   "name": "python",
   "nbconvert_exporter": "python",
   "pygments_lexer": "ipython3",
   "version": "3.13.3"
  }
 },
 "nbformat": 4,
 "nbformat_minor": 5
}
