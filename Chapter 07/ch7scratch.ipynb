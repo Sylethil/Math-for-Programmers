{
 "cells": [
  {
   "cell_type": "code",
   "execution_count": 34,
   "id": "d6957265",
   "metadata": {},
   "outputs": [],
   "source": [
    "from math import *\n",
    "from vectors import *\n",
    "from random import *\n",
    "from pygame import *\n",
    "\n",
    "class PolygonModel():\n",
    "    def __init__(self,points):\n",
    "        self.points = points\n",
    "        self.rotation_angle = 0\n",
    "        self.x = 0\n",
    "        self.y = 0\n",
    "    def transformed(self):\n",
    "        rotated = [vectors.rotate2d(self.rotateion_angle, v) for v in\n",
    "                          self.points]\n",
    "        return [vectors.add((self.x,self.y),v) for v in rotated]"
   ]
  },
  {
   "cell_type": "code",
   "execution_count": 35,
   "id": "11766992",
   "metadata": {},
   "outputs": [],
   "source": [
    "width, height = 400, 400\n",
    "def to_pixels(x,y):\n",
    "    return (width/2 + width * x / 20, height/2 - height * y / 20)"
   ]
  },
  {
   "cell_type": "code",
   "execution_count": 28,
   "id": "919cc26c",
   "metadata": {},
   "outputs": [],
   "source": [
    "class Ship(PolygonModel):\n",
    "    def __init__(self):\n",
    "        super().__init__([(0.5,0), (-0.25,0.25), (-0.25,-0.25)])\n",
    "    def laser_segment(self):\n",
    "        dist = 20. * sqrt(2)\n",
    "        x,y = self.transformed()[0]\n",
    "        return ((x,y),\n",
    "            (x + dist * cos(self.rotation_angle),\n",
    "             y + dist*sin(self.rotation_angle)))"
   ]
  },
  {
   "cell_type": "code",
   "execution_count": 24,
   "id": "f445ea76",
   "metadata": {},
   "outputs": [],
   "source": [
    "class Asteroid(PolygonModel):\n",
    "    def __init__(self):\n",
    "        sides = randint(5,9)\n",
    "        vs = [vectors.to_cartesian((uniform(0.5,1.0), 2*pi*i/sides))\n",
    "            for i in range(0,sides)]\n",
    "        super().__init__(vs)"
   ]
  },
  {
   "cell_type": "code",
   "execution_count": 25,
   "id": "6a304f0c",
   "metadata": {},
   "outputs": [],
   "source": [
    "ship = Ship()\n",
    "\n",
    "asteroid_count = 10\n",
    "asteroids = [Asteroid() for _ in range(0,asteroid_count)]\n",
    "\n",
    "for ast in asteroids:\n",
    "    ast.x = randint(-9,9)\n",
    "    ast.y = randint(-9,9)\n",
    "\n",
    "def to_pixels(x,y):\n",
    "    return (width/2 + width * x / 20, height/2 - height * y / 20)"
   ]
  },
  {
   "cell_type": "code",
   "execution_count": 27,
   "id": "24027433",
   "metadata": {},
   "outputs": [],
   "source": [
    "GREEN = (0, 255, 0)\n",
    "\n",
    "def draw_poly(screen, polygon_model, color=GREEN):\n",
    "    pixel_points = [to_pixels(x,y) for x,y in polygon_model.transformed()]\n",
    "    pygame.draw.aalines(screen, color, True, pixel_points, 10)"
   ]
  },
  {
   "cell_type": "code",
   "execution_count": 31,
   "id": "7c531734",
   "metadata": {},
   "outputs": [
    {
     "ename": "AttributeError",
     "evalue": "'Ship' object has no attribute 'laser_segment'",
     "output_type": "error",
     "traceback": [
      "\u001b[31m---------------------------------------------------------------------------\u001b[39m",
      "\u001b[31mAttributeError\u001b[39m                            Traceback (most recent call last)",
      "\u001b[36mCell\u001b[39m\u001b[36m \u001b[39m\u001b[32mIn[31]\u001b[39m\u001b[32m, line 1\u001b[39m\n\u001b[32m----> \u001b[39m\u001b[32m1\u001b[39m laser = \u001b[43mship\u001b[49m\u001b[43m.\u001b[49m\u001b[43mlaser_segment\u001b[49m()\n\u001b[32m      2\u001b[39m keys = pygame.key.get_pressed()\n\u001b[32m      3\u001b[39m \u001b[38;5;28;01mif\u001b[39;00m keys[pygame.K_SPACE]:\n",
      "\u001b[31mAttributeError\u001b[39m: 'Ship' object has no attribute 'laser_segment'"
     ]
    }
   ],
   "source": [
    "laser = ship.laser_segment()\n",
    "keys = pygame.key.get_pressed()\n",
    "if keys[pygame.K_SPACE]:\n",
    "    draw_segment(*laser)\n",
    "\n",
    "for asteroid in asteroids:\n",
    "    if asteroid.does_intersect(laser):\n",
    "        asteroids.remove(asteroid)"
   ]
  },
  {
   "cell_type": "code",
   "execution_count": null,
   "id": "cff7ea32",
   "metadata": {},
   "outputs": [],
   "source": []
  }
 ],
 "metadata": {
  "kernelspec": {
   "display_name": "Python 3",
   "language": "python",
   "name": "python3"
  },
  "language_info": {
   "codemirror_mode": {
    "name": "ipython",
    "version": 3
   },
   "file_extension": ".py",
   "mimetype": "text/x-python",
   "name": "python",
   "nbconvert_exporter": "python",
   "pygments_lexer": "ipython3",
   "version": "3.13.3"
  }
 },
 "nbformat": 4,
 "nbformat_minor": 5
}
