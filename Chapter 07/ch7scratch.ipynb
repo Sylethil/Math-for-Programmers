{
 "cells": [
  {
   "cell_type": "code",
   "execution_count": 2,
   "id": "d6957265",
   "metadata": {},
   "outputs": [
    {
     "name": "stdout",
     "output_type": "stream",
     "text": [
      "pygame 2.6.1 (SDL 2.28.4, Python 3.13.5)\n",
      "Hello from the pygame community. https://www.pygame.org/contribute.html\n"
     ]
    }
   ],
   "source": [
    "from math import *\n",
    "from vectors import *\n",
    "from random import *\n",
    "from pygame import *\n",
    "\n",
    "class PolygonModel():\n",
    "    def __init__(self,points):\n",
    "        self.points = points\n",
    "        self.rotation_angle = 0\n",
    "        self.x = 0\n",
    "        self.y = 0\n",
    "    def transformed(self):\n",
    "        rotated = [vectors.rotate2d(self.rotateion_angle, v) for v in\n",
    "                          self.points]\n",
    "        return [vectors.add((self.x,self.y),v) for v in rotated]"
   ]
  },
  {
   "cell_type": "code",
   "execution_count": 3,
   "id": "11766992",
   "metadata": {},
   "outputs": [],
   "source": [
    "width, height = 400, 400\n",
    "def to_pixels(x,y):\n",
    "    return (width/2 + width * x / 20, height/2 - height * y / 20)"
   ]
  },
  {
   "cell_type": "code",
   "execution_count": 4,
   "id": "919cc26c",
   "metadata": {},
   "outputs": [],
   "source": [
    "class Ship(PolygonModel):\n",
    "    def __init__(self):\n",
    "        super().__init__([(0.5,0), (-0.25,0.25), (-0.25,-0.25)])\n",
    "    def laser_segment(self):\n",
    "        dist = 20. * sqrt(2)\n",
    "        x,y = self.transformed()[0]\n",
    "        return ((x,y),\n",
    "            (x + dist * cos(self.rotation_angle),\n",
    "             y + dist*sin(self.rotation_angle)))"
   ]
  },
  {
   "cell_type": "code",
   "execution_count": 5,
   "id": "f445ea76",
   "metadata": {},
   "outputs": [],
   "source": [
    "class Asteroid(PolygonModel):\n",
    "    def __init__(self):\n",
    "        sides = randint(5,9)\n",
    "        vs = [vectors.to_cartesian((uniform(0.5,1.0), 2*pi*i/sides))\n",
    "            for i in range(0,sides)]\n",
    "        super().__init__(vs)"
   ]
  },
  {
   "cell_type": "code",
   "execution_count": 6,
   "id": "6a304f0c",
   "metadata": {},
   "outputs": [
    {
     "ename": "NameError",
     "evalue": "name 'vectors' is not defined",
     "output_type": "error",
     "traceback": [
      "\u001b[31m---------------------------------------------------------------------------\u001b[39m",
      "\u001b[31mNameError\u001b[39m                                 Traceback (most recent call last)",
      "\u001b[36mCell\u001b[39m\u001b[36m \u001b[39m\u001b[32mIn[6]\u001b[39m\u001b[32m, line 4\u001b[39m\n\u001b[32m      1\u001b[39m ship = Ship()\n\u001b[32m      3\u001b[39m asteroid_count = \u001b[32m10\u001b[39m\n\u001b[32m----> \u001b[39m\u001b[32m4\u001b[39m asteroids = [\u001b[43mAsteroid\u001b[49m\u001b[43m(\u001b[49m\u001b[43m)\u001b[49m \u001b[38;5;28;01mfor\u001b[39;00m _ \u001b[38;5;129;01min\u001b[39;00m \u001b[38;5;28mrange\u001b[39m(\u001b[32m0\u001b[39m,asteroid_count)]\n\u001b[32m      6\u001b[39m \u001b[38;5;28;01mfor\u001b[39;00m ast \u001b[38;5;129;01min\u001b[39;00m asteroids:\n\u001b[32m      7\u001b[39m     ast.x = randint(-\u001b[32m9\u001b[39m,\u001b[32m9\u001b[39m)\n",
      "\u001b[36mCell\u001b[39m\u001b[36m \u001b[39m\u001b[32mIn[5]\u001b[39m\u001b[32m, line 4\u001b[39m, in \u001b[36mAsteroid.__init__\u001b[39m\u001b[34m(self)\u001b[39m\n\u001b[32m      2\u001b[39m \u001b[38;5;28;01mdef\u001b[39;00m\u001b[38;5;250m \u001b[39m\u001b[34m__init__\u001b[39m(\u001b[38;5;28mself\u001b[39m):\n\u001b[32m      3\u001b[39m     sides = randint(\u001b[32m5\u001b[39m,\u001b[32m9\u001b[39m)\n\u001b[32m----> \u001b[39m\u001b[32m4\u001b[39m     vs = [\u001b[43mvectors\u001b[49m.to_cartesian((uniform(\u001b[32m0.5\u001b[39m,\u001b[32m1.0\u001b[39m), \u001b[32m2\u001b[39m*pi*i/sides))\n\u001b[32m      5\u001b[39m         \u001b[38;5;28;01mfor\u001b[39;00m i \u001b[38;5;129;01min\u001b[39;00m \u001b[38;5;28mrange\u001b[39m(\u001b[32m0\u001b[39m,sides)]\n\u001b[32m      6\u001b[39m     \u001b[38;5;28msuper\u001b[39m().\u001b[34m__init__\u001b[39m(vs)\n",
      "\u001b[31mNameError\u001b[39m: name 'vectors' is not defined"
     ]
    }
   ],
   "source": [
    "ship = Ship()\n",
    "\n",
    "asteroid_count = 10\n",
    "asteroids = [Asteroid() for _ in range(0,asteroid_count)]\n",
    "\n",
    "for ast in asteroids:\n",
    "    ast.x = randint(-9,9)\n",
    "    ast.y = randint(-9,9)\n",
    "\n",
    "def to_pixels(x,y):\n",
    "    return (width/2 + width * x / 20, height/2 - height * y / 20)"
   ]
  },
  {
   "cell_type": "code",
   "execution_count": null,
   "id": "24027433",
   "metadata": {},
   "outputs": [],
   "source": [
    "GREEN = (0, 255, 0)\n",
    "\n",
    "def draw_poly(screen, polygon_model, color=GREEN):\n",
    "    pixel_points = [to_pixels(x,y) for x,y in polygon_model.transformed()]\n",
    "    pygame.draw.aalines(screen, color, True, pixel_points, 10)"
   ]
  },
  {
   "cell_type": "code",
   "execution_count": null,
   "id": "7c531734",
   "metadata": {},
   "outputs": [
    {
     "ename": "AttributeError",
     "evalue": "'Ship' object has no attribute 'laser_segment'",
     "output_type": "error",
     "traceback": [
      "\u001b[31m---------------------------------------------------------------------------\u001b[39m",
      "\u001b[31mAttributeError\u001b[39m                            Traceback (most recent call last)",
      "\u001b[36mCell\u001b[39m\u001b[36m \u001b[39m\u001b[32mIn[31]\u001b[39m\u001b[32m, line 1\u001b[39m\n\u001b[32m----> \u001b[39m\u001b[32m1\u001b[39m laser = \u001b[43mship\u001b[49m\u001b[43m.\u001b[49m\u001b[43mlaser_segment\u001b[49m()\n\u001b[32m      2\u001b[39m keys = pygame.key.get_pressed()\n\u001b[32m      3\u001b[39m \u001b[38;5;28;01mif\u001b[39;00m keys[pygame.K_SPACE]:\n",
      "\u001b[31mAttributeError\u001b[39m: 'Ship' object has no attribute 'laser_segment'"
     ]
    }
   ],
   "source": [
    "laser = ship.laser_segment()\n",
    "keys = pygame.key.get_pressed()\n",
    "if keys[pygame.K_SPACE]:\n",
    "    draw_segment(*laser)\n",
    "\n",
    "for asteroid in asteroids:\n",
    "    if asteroid.does_intersect(laser):\n",
    "        asteroids.remove(asteroid)"
   ]
  },
  {
   "cell_type": "code",
   "execution_count": 8,
   "id": "cff7ea32",
   "metadata": {},
   "outputs": [
    {
     "data": {
      "text/plain": [
       "array([2.66666667, 2.66666667])"
      ]
     },
     "execution_count": 8,
     "metadata": {},
     "output_type": "execute_result"
    }
   ],
   "source": [
    "import numpy as np\n",
    "matrix = np.array(((1,-1),(1,2)))\n",
    "output = np.array((0,8))\n",
    "np.linalg.solve(matrix,output)"
   ]
  },
  {
   "cell_type": "code",
   "execution_count": null,
   "id": "2baab82a",
   "metadata": {},
   "outputs": [
    {
     "ename": "LinAlgError",
     "evalue": "Singular matrix",
     "output_type": "error",
     "traceback": [
      "\u001b[31m---------------------------------------------------------------------------\u001b[39m",
      "\u001b[31mLinAlgError\u001b[39m                               Traceback (most recent call last)",
      "\u001b[36mCell\u001b[39m\u001b[36m \u001b[39m\u001b[32mIn[3]\u001b[39m\u001b[32m, line 3\u001b[39m\n\u001b[32m      1\u001b[39m m = np.array(((\u001b[32m2\u001b[39m,\u001b[32m1\u001b[39m),(\u001b[32m4\u001b[39m,\u001b[32m2\u001b[39m)))\n\u001b[32m      2\u001b[39m v = np.array((\u001b[32m6\u001b[39m,\u001b[32m4\u001b[39m))\n\u001b[32m----> \u001b[39m\u001b[32m3\u001b[39m \u001b[43mnp\u001b[49m\u001b[43m.\u001b[49m\u001b[43mlinalg\u001b[49m\u001b[43m.\u001b[49m\u001b[43msolve\u001b[49m\u001b[43m(\u001b[49m\u001b[43mm\u001b[49m\u001b[43m,\u001b[49m\u001b[43mv\u001b[49m\u001b[43m)\u001b[49m\n",
      "\u001b[36mFile \u001b[39m\u001b[32m~\\AppData\\Local\\Packages\\PythonSoftwareFoundation.Python.3.13_qbz5n2kfra8p0\\LocalCache\\local-packages\\Python313\\site-packages\\numpy\\linalg\\_linalg.py:410\u001b[39m, in \u001b[36msolve\u001b[39m\u001b[34m(a, b)\u001b[39m\n\u001b[32m    407\u001b[39m signature = \u001b[33m'\u001b[39m\u001b[33mDD->D\u001b[39m\u001b[33m'\u001b[39m \u001b[38;5;28;01mif\u001b[39;00m isComplexType(t) \u001b[38;5;28;01melse\u001b[39;00m \u001b[33m'\u001b[39m\u001b[33mdd->d\u001b[39m\u001b[33m'\u001b[39m\n\u001b[32m    408\u001b[39m \u001b[38;5;28;01mwith\u001b[39;00m errstate(call=_raise_linalgerror_singular, invalid=\u001b[33m'\u001b[39m\u001b[33mcall\u001b[39m\u001b[33m'\u001b[39m,\n\u001b[32m    409\u001b[39m               over=\u001b[33m'\u001b[39m\u001b[33mignore\u001b[39m\u001b[33m'\u001b[39m, divide=\u001b[33m'\u001b[39m\u001b[33mignore\u001b[39m\u001b[33m'\u001b[39m, under=\u001b[33m'\u001b[39m\u001b[33mignore\u001b[39m\u001b[33m'\u001b[39m):\n\u001b[32m--> \u001b[39m\u001b[32m410\u001b[39m     r = \u001b[43mgufunc\u001b[49m\u001b[43m(\u001b[49m\u001b[43ma\u001b[49m\u001b[43m,\u001b[49m\u001b[43m \u001b[49m\u001b[43mb\u001b[49m\u001b[43m,\u001b[49m\u001b[43m \u001b[49m\u001b[43msignature\u001b[49m\u001b[43m=\u001b[49m\u001b[43msignature\u001b[49m\u001b[43m)\u001b[49m\n\u001b[32m    412\u001b[39m \u001b[38;5;28;01mreturn\u001b[39;00m wrap(r.astype(result_t, copy=\u001b[38;5;28;01mFalse\u001b[39;00m))\n",
      "\u001b[36mFile \u001b[39m\u001b[32m~\\AppData\\Local\\Packages\\PythonSoftwareFoundation.Python.3.13_qbz5n2kfra8p0\\LocalCache\\local-packages\\Python313\\site-packages\\numpy\\linalg\\_linalg.py:104\u001b[39m, in \u001b[36m_raise_linalgerror_singular\u001b[39m\u001b[34m(err, flag)\u001b[39m\n\u001b[32m    103\u001b[39m \u001b[38;5;28;01mdef\u001b[39;00m\u001b[38;5;250m \u001b[39m\u001b[34m_raise_linalgerror_singular\u001b[39m(err, flag):\n\u001b[32m--> \u001b[39m\u001b[32m104\u001b[39m     \u001b[38;5;28;01mraise\u001b[39;00m LinAlgError(\u001b[33m\"\u001b[39m\u001b[33mSingular matrix\u001b[39m\u001b[33m\"\u001b[39m)\n",
      "\u001b[31mLinAlgError\u001b[39m: Singular matrix"
     ]
    }
   ],
   "source": [
    "m = np.array(((2,1),(4,2)))\n",
    "v = np.array((6,4))\n",
    "np.linalg.solve(m,v)"
   ]
  },
  {
   "cell_type": "code",
   "execution_count": null,
   "id": "39be169d",
   "metadata": {},
   "outputs": [],
   "source": [
    "def standard_form(v1, v2):\n",
    "    x1, y1 = v1\n",
    "    x2, y2 = v2\n",
    "    a = y2 - y1\n",
    "    b = x1 - x2\n",
    "    c = x1 * y2 - y1 * x2\n",
    "    return a,b,c\n"
   ]
  },
  {
   "cell_type": "code",
   "execution_count": 10,
   "id": "c8b9c98d",
   "metadata": {},
   "outputs": [
    {
     "data": {
      "text/plain": [
       "array([ 1., -3.,  3., -1.])"
      ]
     },
     "execution_count": 10,
     "metadata": {},
     "output_type": "execute_result"
    }
   ],
   "source": [
    "m = np.array(((0,0,1,0),(0,-2,-2,0),(1,-1,0,-2),(1,-1,2,1)))\n",
    "v = np.array((3,0,6,9))\n",
    "np.linalg.solve(m,v)"
   ]
  },
  {
   "cell_type": "code",
   "execution_count": null,
   "id": "d4418022",
   "metadata": {},
   "outputs": [],
   "source": []
  }
 ],
 "metadata": {
  "kernelspec": {
   "display_name": "Python 3",
   "language": "python",
   "name": "python3"
  },
  "language_info": {
   "codemirror_mode": {
    "name": "ipython",
    "version": 3
   },
   "file_extension": ".py",
   "mimetype": "text/x-python",
   "name": "python",
   "nbconvert_exporter": "python",
   "pygments_lexer": "ipython3",
   "version": "3.13.5"
  }
 },
 "nbformat": 4,
 "nbformat_minor": 5
}
