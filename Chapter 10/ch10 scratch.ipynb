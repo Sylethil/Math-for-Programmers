{
 "cells": [
  {
   "cell_type": "code",
   "execution_count": 5,
   "id": "6550d23d",
   "metadata": {},
   "outputs": [],
   "source": [
    "class Power():\n",
    "    def __init__(self,base,exponent):\n",
    "        self.base = base\n",
    "        self.exponent = exponent\n",
    "\n",
    "class Number():\n",
    "    def __init__(self,number):\n",
    "        self.number = number\n",
    "\n",
    "class Variable():\n",
    "    def __init__(self,symbol):\n",
    "        self.symbol = symbol\n",
    "\n",
    "Power(Variable(\"x\"),Number(2))\n",
    "##model of the expression x^2\n",
    "\n",
    "class Product():\n",
    "    def __init__(self, exp1, exp2):\n",
    "        self.exp1 = exp1\n",
    "        self.exp2 = exp2\n",
    "\n",
    "#3x^2:\n",
    "Product(Number(3),Power(Variable(\"x\"),Number(2)))\n",
    "\n",
    "class Sum():\n",
    "    def __init__(self, *exps):\n",
    "        self.exps = exps\n",
    "\n",
    "class Function():\n",
    "    def __init__(self,name):\n",
    "        self.name = name\n",
    "\n",
    "class Apply():\n",
    "    def __init__(self,function,argument):\n",
    "        self.function = function\n",
    "        self.argument = argument\n",
    "\n",
    "f_expression = Product(\n",
    "                Sum(\n",
    "                    Product(\n",
    "                        Number(3),\n",
    "                        Power(\n",
    "                            Variable(\"x\"),\n",
    "                            Number(2))),\n",
    "                        Variable(\"x\")),\n",
    "                    Apply(\n",
    "                        Function(\"sin\"),\n",
    "                        Variable(\"x\")))"
   ]
  },
  {
   "cell_type": "code",
   "execution_count": 8,
   "id": "768a4ae1",
   "metadata": {},
   "outputs": [
    {
     "data": {
      "text/plain": [
       "<__main__.Apply at 0x194310af390>"
      ]
     },
     "execution_count": 8,
     "metadata": {},
     "output_type": "execute_result"
    }
   ],
   "source": [
    "#ex10.2\n",
    "import math\n",
    "def f(y,z):\n",
    "    return math.log(y**z)\n",
    "\n",
    "Apply(Function(\"ln\"), Power(Variable(\"x\"), Variable(\"z\")))"
   ]
  },
  {
   "cell_type": "code",
   "execution_count": 12,
   "id": "2b1f59c3",
   "metadata": {},
   "outputs": [
    {
     "data": {
      "text/plain": [
       "<__main__.Quotient at 0x194318e9fd0>"
      ]
     },
     "execution_count": 12,
     "metadata": {},
     "output_type": "execute_result"
    }
   ],
   "source": [
    "class Quotient():\n",
    "    def __init__(self,numerator,denominator):\n",
    "        self.numerator = numerator\n",
    "        self.denominator = denominator\n",
    "\n",
    "Quotient(Sum(Variable(\"a\"),Variable(\"b\")),Number(2))"
   ]
  },
  {
   "cell_type": "code",
   "execution_count": 13,
   "id": "78cb9a17",
   "metadata": {},
   "outputs": [
    {
     "data": {
      "text/plain": [
       "<__main__.Difference at 0x194318e9e80>"
      ]
     },
     "execution_count": 13,
     "metadata": {},
     "output_type": "execute_result"
    }
   ],
   "source": [
    "class Difference():\n",
    "    def __init__(self,exp1,exp2):\n",
    "        self.exp1 = exp1\n",
    "        self.exp2 = exp2\n",
    "\n",
    "Difference(\n",
    "    Power(Variable(\"b\"),Number(2)),\n",
    "    Product(Number(4),Product(Variable(\"a\"),Variable(\"c\"))))"
   ]
  },
  {
   "cell_type": "code",
   "execution_count": 14,
   "id": "e8ce758b",
   "metadata": {},
   "outputs": [
    {
     "data": {
      "text/plain": [
       "<__main__.Negative at 0x194318e9be0>"
      ]
     },
     "execution_count": 14,
     "metadata": {},
     "output_type": "execute_result"
    }
   ],
   "source": [
    "class Negative():\n",
    "    def __init__(self,exp):\n",
    "        self.exp = exp\n",
    "\n",
    "Negative(Sum(Power(Variable(\"x\"),Number(2)),Variable(\"y\")))"
   ]
  },
  {
   "cell_type": "code",
   "execution_count": 16,
   "id": "b31da815",
   "metadata": {},
   "outputs": [],
   "source": [
    "from abc import ABC, abstractmethod\n",
    "\n",
    "class Expression(ABC):\n",
    "    @abstractmethod\n",
    "    def latex(self):\n",
    "        pass\n",
    "    def _repr_latex_(self):\n",
    "        return \"$$\" + self.latex() + \"$$\"\n",
    "    @abstractmethod\n",
    "    def evaluate(self, **bindings):\n",
    "        pass\n",
    "    @abstractmethod\n",
    "    def substitute(self, var, expression):\n",
    "        pass\n",
    "    @abstractmethod\n",
    "    def expand(self):\n",
    "        pass\n",
    "    @abstractmethod\n",
    "    def display(self):\n",
    "        pass\n",
    "    def __repr__(self):\n",
    "        return self.display()\n",
    "    @abstractmethod\n",
    "    def derivative(self,var):\n",
    "        pass\n",
    "    \n",
    "    def __call__(self, *inputs):\n",
    "        var_list = sorted(distinct_variables(self))\n",
    "        return self.evaluate(**dict(zip(var_list, inputs)))\n",
    "    \n",
    "    def __add__(self, other):\n",
    "        return Sum(self,package(other))\n",
    "    \n",
    "    def __sub__(self,other):\n",
    "        return Difference(self,package(other))\n",
    "    \n",
    "    def __mul__(self,other):\n",
    "        return Product(self,package(other))\n",
    "    \n",
    "    def __rmul__(self,other):\n",
    "        return Product(package(other),self)\n",
    "    \n",
    "    def __truediv__(self,other):\n",
    "        return Quotient(self,package(other))\n",
    "    \n",
    "    def __pow__(self,other):\n",
    "        return Power(self,package(other))\n",
    "    \n",
    "    @abstractmethod\n",
    "    def _python_expr(self):\n",
    "        pass\n",
    "    \n",
    "    def python_function(self,**bindings):\n",
    "#         code = \"lambda {}:{}\".format(\n",
    "#             \", \".join(sorted(distinct_variables(self))),\n",
    "#             self._python_expr())\n",
    "#         print(code)\n",
    "        global_vars = {\"math\":math}\n",
    "        return eval(self._python_expr(),global_vars,bindings)"
   ]
  },
  {
   "cell_type": "code",
   "execution_count": null,
   "id": "cb5091d0",
   "metadata": {},
   "outputs": [],
   "source": []
  }
 ],
 "metadata": {
  "kernelspec": {
   "display_name": "Python 3",
   "language": "python",
   "name": "python3"
  },
  "language_info": {
   "codemirror_mode": {
    "name": "ipython",
    "version": 3
   },
   "file_extension": ".py",
   "mimetype": "text/x-python",
   "name": "python",
   "nbconvert_exporter": "python",
   "pygments_lexer": "ipython3",
   "version": "3.13.5"
  }
 },
 "nbformat": 4,
 "nbformat_minor": 5
}
