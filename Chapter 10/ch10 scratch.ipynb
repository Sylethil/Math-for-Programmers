{
 "cells": [
  {
   "cell_type": "code",
   "execution_count": 4,
   "id": "6550d23d",
   "metadata": {},
   "outputs": [],
   "source": [
    "class Power():\n",
    "    def __init__(self,base,exponent):\n",
    "        self.base = base\n",
    "        self.exponent = exponent\n",
    "\n",
    "class Number():\n",
    "    def __init__(self,number):\n",
    "        self.number = number\n",
    "\n",
    "class Variable():\n",
    "    def __init__(self,symbol):\n",
    "        self.symbol = symbol\n",
    "\n",
    "Power(Variable(\"x\"),Number(2))\n",
    "##model of the expression x^2\n",
    "\n",
    "class Product():\n",
    "    def __init__(self, exp1, exp2):\n",
    "        self.exp1 = exp1\n",
    "        self.exp2 = exp2\n",
    "\n",
    "#3x^2:\n",
    "Product(Number(3),Power(Variable(\"x\"),Number(2)))\n",
    "\n",
    "class Sum():\n",
    "    def __init__(self, *exps):\n",
    "        self.exps = exps\n",
    "\n",
    "class Function():\n",
    "    def __init__(self,name):\n",
    "        self.name = name\n",
    "\n",
    "class Apply():\n",
    "    def __init__(self,function,argument):\n",
    "        self.function = function\n",
    "        self.argument = argument\n",
    "\n",
    "f_expression = Product(\n",
    "                Sum(\n",
    "                    Product(\n",
    "                        Number(3),\n",
    "                        Power(\n",
    "                            Variable(\"x\"),\n",
    "                            Number(2))),\n",
    "                        Variable(\"x\")),\n",
    "                    Apply(\n",
    "                        Function(\"sin\"),\n",
    "                        Variable(\"x\")))"
   ]
  },
  {
   "cell_type": "code",
   "execution_count": null,
   "id": "768a4ae1",
   "metadata": {},
   "outputs": [],
   "source": []
  }
 ],
 "metadata": {
  "kernelspec": {
   "display_name": "Python 3",
   "language": "python",
   "name": "python3"
  },
  "language_info": {
   "codemirror_mode": {
    "name": "ipython",
    "version": 3
   },
   "file_extension": ".py",
   "mimetype": "text/x-python",
   "name": "python",
   "nbconvert_exporter": "python",
   "pygments_lexer": "ipython3",
   "version": "3.13.5"
  }
 },
 "nbformat": 4,
 "nbformat_minor": 5
}
