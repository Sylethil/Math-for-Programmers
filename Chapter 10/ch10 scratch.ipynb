{
 "cells": [
  {
   "cell_type": "code",
   "execution_count": 19,
   "id": "6550d23d",
   "metadata": {},
   "outputs": [],
   "source": [
    "class Power():\n",
    "    def __init__(self,base,exponent):\n",
    "        self.base = base\n",
    "        self.exponent = exponent\n",
    "\n",
    "class Number(Expression):\n",
    "    def __init__(self,number):\n",
    "        self.number = number\n",
    "    def evaluate(self, **bindings):\n",
    "        return self.number\n",
    "\n",
    "class Variable(Expression):\n",
    "    def __init__(self,symbol):\n",
    "        self.symbol = symbol\n",
    "    def evaluate(self, **bindings):\n",
    "        try:\n",
    "            return bindings[self.symbol]\n",
    "        except:\n",
    "            raise KeyError(\"Variable '{}' is not bound.\".format(self.symbol))\n",
    "\n",
    "Power(Variable(\"x\"),Number(2))\n",
    "##model of the expression x^2\n",
    "\n",
    "class Product(Expression):\n",
    "    def __init__(self, exp1, exp2):\n",
    "        self.exp1 = exp1\n",
    "        self.exp2 = exp2\n",
    "    def evaluate(self, **bindings):\n",
    "        return self.exp1.evaluate(**bindings)*self.exp2.evaluate(**bindings)\n",
    "\n",
    "#3x^2:\n",
    "Product(Number(3),Power(Variable(\"x\"),Number(2)))\n",
    "\n",
    "class Sum():\n",
    "    def __init__(self, *exps):\n",
    "        self.exps = exps\n",
    "\n",
    "class Function():\n",
    "    def __init__(self,name):\n",
    "        self.name = name\n",
    "\n",
    "class Apply():\n",
    "    def __init__(self,function,argument):\n",
    "        self.function = function\n",
    "        self.argument = argument\n",
    "\n",
    "f_expression = Product(\n",
    "                Sum(\n",
    "                    Product(\n",
    "                        Number(3),\n",
    "                        Power(\n",
    "                            Variable(\"x\"),\n",
    "                            Number(2))),\n",
    "                        Variable(\"x\")),\n",
    "                    Apply(\n",
    "                        Function(\"sin\"),\n",
    "                        Variable(\"x\")))"
   ]
  },
  {
   "cell_type": "code",
   "execution_count": 20,
   "id": "768a4ae1",
   "metadata": {},
   "outputs": [
    {
     "data": {
      "text/plain": [
       "<__main__.Apply at 0x2c28ba2e990>"
      ]
     },
     "execution_count": 20,
     "metadata": {},
     "output_type": "execute_result"
    }
   ],
   "source": [
    "#ex10.2\n",
    "import math\n",
    "def f(y,z):\n",
    "    return math.log(y**z)\n",
    "\n",
    "Apply(Function(\"ln\"), Power(Variable(\"x\"), Variable(\"z\")))"
   ]
  },
  {
   "cell_type": "code",
   "execution_count": 21,
   "id": "2b1f59c3",
   "metadata": {},
   "outputs": [
    {
     "data": {
      "text/plain": [
       "<__main__.Quotient at 0x2c28bbcbcb0>"
      ]
     },
     "execution_count": 21,
     "metadata": {},
     "output_type": "execute_result"
    }
   ],
   "source": [
    "class Quotient():\n",
    "    def __init__(self,numerator,denominator):\n",
    "        self.numerator = numerator\n",
    "        self.denominator = denominator\n",
    "\n",
    "Quotient(Sum(Variable(\"a\"),Variable(\"b\")),Number(2))"
   ]
  },
  {
   "cell_type": "code",
   "execution_count": 22,
   "id": "78cb9a17",
   "metadata": {},
   "outputs": [
    {
     "data": {
      "text/plain": [
       "<__main__.Difference at 0x2c28d194050>"
      ]
     },
     "execution_count": 22,
     "metadata": {},
     "output_type": "execute_result"
    }
   ],
   "source": [
    "class Difference():\n",
    "    def __init__(self,exp1,exp2):\n",
    "        self.exp1 = exp1\n",
    "        self.exp2 = exp2\n",
    "\n",
    "Difference(\n",
    "    Power(Variable(\"b\"),Number(2)),\n",
    "    Product(Number(4),Product(Variable(\"a\"),Variable(\"c\"))))"
   ]
  },
  {
   "cell_type": "code",
   "execution_count": 23,
   "id": "e8ce758b",
   "metadata": {},
   "outputs": [
    {
     "data": {
      "text/plain": [
       "<__main__.Negative at 0x2c28d1967b0>"
      ]
     },
     "execution_count": 23,
     "metadata": {},
     "output_type": "execute_result"
    }
   ],
   "source": [
    "class Negative():\n",
    "    def __init__(self,exp):\n",
    "        self.exp = exp\n",
    "\n",
    "Negative(Sum(Power(Variable(\"x\"),Number(2)),Variable(\"y\")))"
   ]
  },
  {
   "cell_type": "code",
   "execution_count": 24,
   "id": "b31da815",
   "metadata": {},
   "outputs": [],
   "source": [
    "from abc import ABC, abstractmethod\n",
    "\n",
    "class Expression(ABC):\n",
    "    @abstractmethod\n",
    "    def evaluate(self, **bindings):\n",
    "        pass"
   ]
  },
  {
   "cell_type": "code",
   "execution_count": 25,
   "id": "cb5091d0",
   "metadata": {},
   "outputs": [],
   "source": [
    "def distinct_variables(exp):\n",
    "    if isinstance(exp, Variable):\n",
    "        return set(exp.symbol)\n",
    "    elif isinstance(exp, Number):\n",
    "        return set()\n",
    "    elif isinstance(exp, Sum):\n",
    "        return set().union(*[distinct_variables(exp) for exp in exp.exps])\n",
    "    elif isinstance(exp, Product):\n",
    "        return distinct_variables(exp.exp1).union(distinct_variables(exp.exp2))\n",
    "    elif isinstance(exp, Power):\n",
    "        return distinct_variables(exp.base).union(distinct_variables(exp.exponent))\n",
    "    elif isinstance(exp, Apply):\n",
    "        return distinct_variables(exp.argument)\n",
    "    else:\n",
    "        raise TypeError(\"Not a valid expression.\")"
   ]
  },
  {
   "cell_type": "code",
   "execution_count": 26,
   "id": "8814c036",
   "metadata": {},
   "outputs": [
    {
     "data": {
      "text/plain": [
       "{'x'}"
      ]
     },
     "execution_count": 26,
     "metadata": {},
     "output_type": "execute_result"
    }
   ],
   "source": [
    "distinct_variables(f_expression)"
   ]
  },
  {
   "cell_type": "code",
   "execution_count": 27,
   "id": "929086b8",
   "metadata": {},
   "outputs": [
    {
     "data": {
      "text/plain": [
       "10"
      ]
     },
     "execution_count": 27,
     "metadata": {},
     "output_type": "execute_result"
    }
   ],
   "source": [
    "Product(Variable(\"x\"),Variable(\"y\")).evaluate(x=2,y=5)"
   ]
  },
  {
   "cell_type": "code",
   "execution_count": null,
   "id": "77a512d2",
   "metadata": {},
   "outputs": [],
   "source": []
  }
 ],
 "metadata": {
  "kernelspec": {
   "display_name": "Python 3",
   "language": "python",
   "name": "python3"
  },
  "language_info": {
   "codemirror_mode": {
    "name": "ipython",
    "version": 3
   },
   "file_extension": ".py",
   "mimetype": "text/x-python",
   "name": "python",
   "nbconvert_exporter": "python",
   "pygments_lexer": "ipython3",
   "version": "3.13.5"
  }
 },
 "nbformat": 4,
 "nbformat_minor": 5
}
