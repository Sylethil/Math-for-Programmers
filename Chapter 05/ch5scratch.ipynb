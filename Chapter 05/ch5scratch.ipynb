{
 "cells": [
  {
   "cell_type": "code",
   "execution_count": 2,
   "id": "b3531d1e",
   "metadata": {},
   "outputs": [
    {
     "data": {
      "text/plain": [
       "[(0, 0, 1), (2, 1, 0), (1, 0, -1)]"
      ]
     },
     "execution_count": 2,
     "metadata": {},
     "output_type": "execute_result"
    }
   ],
   "source": [
    "B = (\n",
    "    (0,2,1),\n",
    "    (0,1,0),\n",
    "    (1,0,-1)\n",
    ")\n",
    "v = (3,-2,5)\n",
    "list(zip(*B))"
   ]
  },
  {
   "cell_type": "code",
   "execution_count": 3,
   "id": "efb6f802",
   "metadata": {},
   "outputs": [],
   "source": [
    "from vectors import *\n",
    "def linear_combination(scalars,*vectors):\n",
    "    scaled = [scale(s,v) for s,v in zip(scalars,vectors)]\n",
    "    return add(*scaled)"
   ]
  },
  {
   "cell_type": "code",
   "execution_count": 4,
   "id": "f0ad210e",
   "metadata": {},
   "outputs": [
    {
     "data": {
      "text/plain": [
       "(1, -2, -2)"
      ]
     },
     "execution_count": 4,
     "metadata": {},
     "output_type": "execute_result"
    }
   ],
   "source": [
    "def multiply_matrix_vector(matrix, vector):\n",
    "    return linear_combination(vector, *zip(*matrix))\n",
    "\n",
    "multiply_matrix_vector(B,v)"
   ]
  },
  {
   "cell_type": "code",
   "execution_count": 5,
   "id": "154d86cb",
   "metadata": {},
   "outputs": [],
   "source": [
    "def matrix_multiply(a,b):\n",
    "    return tuple(\n",
    "        tuple(dot(row,col) for col in zip(*b))\n",
    "        for row in a\n",
    "    )"
   ]
  },
  {
   "cell_type": "code",
   "execution_count": 6,
   "id": "6126d4a5",
   "metadata": {},
   "outputs": [
    {
     "name": "stdout",
     "output_type": "stream",
     "text": [
      "pygame 2.6.1 (SDL 2.28.4, Python 3.13.3)\n",
      "Hello from the pygame community. https://www.pygame.org/contribute.html\n"
     ]
    },
    {
     "ename": "NameError",
     "evalue": "name 'quit' is not defined",
     "output_type": "error",
     "traceback": [
      "\u001b[31m---------------------------------------------------------------------------\u001b[39m",
      "\u001b[31mNameError\u001b[39m                                 Traceback (most recent call last)",
      "\u001b[36mCell\u001b[39m\u001b[36m \u001b[39m\u001b[32mIn[6]\u001b[39m\u001b[32m, line 12\u001b[39m\n\u001b[32m      6\u001b[39m     seconds = t/\u001b[32m1000\u001b[39m\n\u001b[32m      7\u001b[39m     \u001b[38;5;28;01mreturn\u001b[39;00m (\n\u001b[32m      8\u001b[39m         (cos(seconds),\u001b[32m0\u001b[39m,-sin(seconds)),\n\u001b[32m      9\u001b[39m         (\u001b[32m0\u001b[39m,\u001b[32m1\u001b[39m,\u001b[32m0\u001b[39m),\n\u001b[32m     10\u001b[39m         (sin(seconds),\u001b[32m0\u001b[39m,cos(seconds))\n\u001b[32m     11\u001b[39m     )\n\u001b[32m---> \u001b[39m\u001b[32m12\u001b[39m \u001b[43mdraw_model\u001b[49m\u001b[43m(\u001b[49m\u001b[43mload_triangles\u001b[49m\u001b[43m(\u001b[49m\u001b[43m)\u001b[49m\u001b[43m,\u001b[49m\n\u001b[32m     13\u001b[39m \u001b[43m           \u001b[49m\u001b[43mget_matrix\u001b[49m\u001b[43m=\u001b[49m\u001b[43mget_rotation_matrix\u001b[49m\u001b[43m)\u001b[49m\n",
      "\u001b[36mFile \u001b[39m\u001b[32mc:\\Users\\scott\\OneDrive\\Documents\\GitHub\\Math-for-Programmers\\Chapter 05\\draw_model.py:53\u001b[39m, in \u001b[36mdraw_model\u001b[39m\u001b[34m(faces, color_map, light, glRotatefArgs, get_matrix)\u001b[39m\n\u001b[32m     51\u001b[39m     \u001b[38;5;28;01mif\u001b[39;00m event.type == pygame.QUIT:\n\u001b[32m     52\u001b[39m         pygame.quit()\n\u001b[32m---> \u001b[39m\u001b[32m53\u001b[39m         \u001b[43mquit\u001b[49m()\n\u001b[32m     55\u001b[39m glClear(GL_COLOR_BUFFER_BIT|GL_DEPTH_BUFFER_BIT)\n\u001b[32m     56\u001b[39m Axes()\n",
      "\u001b[31mNameError\u001b[39m: name 'quit' is not defined"
     ]
    }
   ],
   "source": [
    "from teapot import load_triangles\n",
    "from draw_model import draw_model\n",
    "from math import sin,cos\n",
    "\n",
    "def get_rotation_matrix(t):\n",
    "    seconds = t/1000\n",
    "    return (\n",
    "        (cos(seconds),0,-sin(seconds)),\n",
    "        (0,1,0),\n",
    "        (sin(seconds),0,cos(seconds))\n",
    "    )\n",
    "draw_model(load_triangles(),\n",
    "           get_matrix=get_rotation_matrix)\n",
    "    \n"
   ]
  },
  {
   "cell_type": "code",
   "execution_count": 34,
   "id": "e57100dd",
   "metadata": {},
   "outputs": [
    {
     "data": {
      "text/plain": [
       "((6.123233995736766e-17, -1.0, 0.0),\n",
       " (1.0, 1.2246467991473532e-16, 0.0),\n",
       " (0, 0, 1))"
      ]
     },
     "execution_count": 34,
     "metadata": {},
     "output_type": "execute_result"
    }
   ],
   "source": [
    "#exercise 5.1\n",
    "from vectors import *\n",
    "from transforms import *\n",
    "\n",
    "def infer_matrix(n,transform):\n",
    "   \n",
    "    basis = []\n",
    "    for i in range(n):\n",
    "        vector = [0]*n\n",
    "        vector[i] = 1\n",
    "        basis.append(tuple(vector))\n",
    "    \n",
    "    cols = [transform(v) for v in basis]\n",
    " \n",
    "    return tuple(zip(*cols))\n",
    "\n",
    "def identity(*vectors):\n",
    "    return vectors\n",
    "\n",
    "from math import pi\n",
    "infer_matrix(3, rotate_z_by(pi/2))"
   ]
  },
  {
   "cell_type": "code",
   "execution_count": null,
   "id": "16d8af3a",
   "metadata": {},
   "outputs": [
    {
     "data": {
      "text/plain": [
       "(((3, 3, 9), (7, 8, 4), (1, 9, 6)), ((7, 7, 9), (4, 6, 8), (8, 7, 1)))"
      ]
     },
     "execution_count": 8,
     "metadata": {},
     "output_type": "execute_result"
    }
   ],
   "source": [
    "#ex 5.3\n",
    "\n",
    "import random\n",
    "\n",
    "def random_matrix(n):\n",
    "    cols = []\n",
    "    for i in range(n):\n",
    "        vector = []\n",
    "        for j in range(n):\n",
    "            vector.append(random.randint(1,9))\n",
    "        cols.append(tuple(vector))\n",
    "    return tuple(zip(*cols))\n",
    "\n",
    "random_matrix(3), random_matrix(3)"
   ]
  },
  {
   "cell_type": "code",
   "execution_count": null,
   "id": "baf1421a",
   "metadata": {},
   "outputs": [
    {
     "ename": "TypeError",
     "evalue": "'int' object is not iterable",
     "output_type": "error",
     "traceback": [
      "\u001b[31m---------------------------------------------------------------------------\u001b[39m",
      "\u001b[31mTypeError\u001b[39m                                 Traceback (most recent call last)",
      "\u001b[36mCell\u001b[39m\u001b[36m \u001b[39m\u001b[32mIn[59]\u001b[39m\u001b[32m, line 4\u001b[39m\n\u001b[32m      1\u001b[39m m = ((\u001b[32m8\u001b[39m, \u001b[32m5\u001b[39m, \u001b[32m9\u001b[39m), (\u001b[32m2\u001b[39m, \u001b[32m7\u001b[39m, \u001b[32m1\u001b[39m), (\u001b[32m6\u001b[39m, \u001b[32m5\u001b[39m, \u001b[32m8\u001b[39m))\n\u001b[32m      2\u001b[39m v = (\u001b[32m1\u001b[39m,\u001b[32m5\u001b[39m,\u001b[32m5\u001b[39m)\n\u001b[32m----> \u001b[39m\u001b[32m4\u001b[39m \u001b[43mmatrix_multiply\u001b[49m\u001b[43m(\u001b[49m\u001b[43mm\u001b[49m\u001b[43m,\u001b[49m\u001b[43mv\u001b[49m\u001b[43m)\u001b[49m\n",
      "\u001b[36mCell\u001b[39m\u001b[36m \u001b[39m\u001b[32mIn[5]\u001b[39m\u001b[32m, line 2\u001b[39m, in \u001b[36mmatrix_multiply\u001b[39m\u001b[34m(a, b)\u001b[39m\n\u001b[32m      1\u001b[39m \u001b[38;5;28;01mdef\u001b[39;00m\u001b[38;5;250m \u001b[39m\u001b[34mmatrix_multiply\u001b[39m(a,b):\n\u001b[32m----> \u001b[39m\u001b[32m2\u001b[39m     \u001b[38;5;28;01mreturn\u001b[39;00m \u001b[38;5;28;43mtuple\u001b[39;49m\u001b[43m(\u001b[49m\n\u001b[32m      3\u001b[39m \u001b[43m        \u001b[49m\u001b[38;5;28;43mtuple\u001b[39;49m\u001b[43m(\u001b[49m\u001b[43mdot\u001b[49m\u001b[43m(\u001b[49m\u001b[43mrow\u001b[49m\u001b[43m,\u001b[49m\u001b[43mcol\u001b[49m\u001b[43m)\u001b[49m\u001b[43m \u001b[49m\u001b[38;5;28;43;01mfor\u001b[39;49;00m\u001b[43m \u001b[49m\u001b[43mcol\u001b[49m\u001b[43m \u001b[49m\u001b[38;5;129;43;01min\u001b[39;49;00m\u001b[43m \u001b[49m\u001b[38;5;28;43mzip\u001b[39;49m\u001b[43m(\u001b[49m\u001b[43m*\u001b[49m\u001b[43mb\u001b[49m\u001b[43m)\u001b[49m\u001b[43m)\u001b[49m\n\u001b[32m      4\u001b[39m \u001b[43m        \u001b[49m\u001b[38;5;28;43;01mfor\u001b[39;49;00m\u001b[43m \u001b[49m\u001b[43mrow\u001b[49m\u001b[43m \u001b[49m\u001b[38;5;129;43;01min\u001b[39;49;00m\u001b[43m \u001b[49m\u001b[43ma\u001b[49m\n\u001b[32m      5\u001b[39m \u001b[43m    \u001b[49m\u001b[43m)\u001b[49m\n",
      "\u001b[36mCell\u001b[39m\u001b[36m \u001b[39m\u001b[32mIn[5]\u001b[39m\u001b[32m, line 3\u001b[39m, in \u001b[36m<genexpr>\u001b[39m\u001b[34m(.0)\u001b[39m\n\u001b[32m      1\u001b[39m \u001b[38;5;28;01mdef\u001b[39;00m\u001b[38;5;250m \u001b[39m\u001b[34mmatrix_multiply\u001b[39m(a,b):\n\u001b[32m      2\u001b[39m     \u001b[38;5;28;01mreturn\u001b[39;00m \u001b[38;5;28mtuple\u001b[39m(\n\u001b[32m----> \u001b[39m\u001b[32m3\u001b[39m         \u001b[38;5;28mtuple\u001b[39m(dot(row,col) \u001b[38;5;28;01mfor\u001b[39;00m col \u001b[38;5;129;01min\u001b[39;00m \u001b[38;5;28;43mzip\u001b[39;49m\u001b[43m(\u001b[49m\u001b[43m*\u001b[49m\u001b[43mb\u001b[49m\u001b[43m)\u001b[49m)\n\u001b[32m      4\u001b[39m         \u001b[38;5;28;01mfor\u001b[39;00m row \u001b[38;5;129;01min\u001b[39;00m a\n\u001b[32m      5\u001b[39m     )\n",
      "\u001b[31mTypeError\u001b[39m: 'int' object is not iterable"
     ]
    }
   ],
   "source": [
    "m = ((8, 5, 9), (2, 7, 1), (6, 5, 8))\n",
    "v = (1,5,5)\n",
    "\n",
    "matrix_multiply(m,v)\n"
   ]
  },
  {
   "cell_type": "code",
   "execution_count": null,
   "id": "d1f64bc2",
   "metadata": {},
   "outputs": [
    {
     "ename": "NameError",
     "evalue": "name 'polygon_map' is not defined",
     "output_type": "error",
     "traceback": [
      "\u001b[31m---------------------------------------------------------------------------\u001b[39m",
      "\u001b[31mNameError\u001b[39m                                 Traceback (most recent call last)",
      "\u001b[36mCell\u001b[39m\u001b[36m \u001b[39m\u001b[32mIn[7]\u001b[39m\u001b[32m, line 5\u001b[39m\n\u001b[32m      2\u001b[39m     m = ((\u001b[32m2\u001b[39m,\u001b[32m1\u001b[39m,\u001b[32m1\u001b[39m),(\u001b[32m1\u001b[39m,\u001b[32m2\u001b[39m,\u001b[32m1\u001b[39m),(\u001b[32m1\u001b[39m,\u001b[32m1\u001b[39m,\u001b[32m2\u001b[39m))\n\u001b[32m      3\u001b[39m     \u001b[38;5;28;01mreturn\u001b[39;00m multiply_matrix_vector(m,v)\n\u001b[32m----> \u001b[39m\u001b[32m5\u001b[39m draw_model(\u001b[43mpolygon_map\u001b[49m(transform, load_triangles()))\n",
      "\u001b[31mNameError\u001b[39m: name 'polygon_map' is not defined"
     ]
    }
   ],
   "source": [
    "def transform(v):\n",
    "    m = ((2,1,1),(1,2,1),(1,1,2))\n",
    "    return multiply_matrix_vector(m,v)\n",
    "\n",
    "draw_model(polygon_map(transform, load_triangles()))"
   ]
  },
  {
   "cell_type": "code",
   "execution_count": null,
   "id": "526af0cc",
   "metadata": {},
   "outputs": [
    {
     "name": "stdout",
     "output_type": "stream",
     "text": [
      "(78, 42, 71)\n"
     ]
    }
   ],
   "source": [
    "# ex 5.7 Implement multiply_matrix_vector in a different way by using two\n",
    "# nested comprehensions: one traversing the rows of the matrix and one\n",
    "# traversing the entries of each row.\n",
    "\n",
    "def multiply_matrix_vector(matrix, vector):\n",
    "    return tuple(\n",
    "        sum(vector_entry * matrix_entry\n",
    "            for vector_entry, matrix_entry in zip(row, vector))\n",
    "        for row in matrix\n",
    "    )\n",
    "\n",
    "m = ((8, 5, 9), (2, 7, 1), (6, 5, 8))\n",
    "v = (1,5,5)\n",
    "\n",
    "print(\n",
    "multiply_matrix_vector(m,v))"
   ]
  },
  {
   "cell_type": "code",
   "execution_count": 14,
   "id": "25cf2110",
   "metadata": {},
   "outputs": [
    {
     "name": "stdout",
     "output_type": "stream",
     "text": [
      "(78, 42, 71)\n"
     ]
    }
   ],
   "source": [
    "def multiply_matrix_vector(matrix, vector):\n",
    "    return tuple(dot(row, vector) for row in matrix)\n",
    "\n",
    "m = ((8, 5, 9), (2, 7, 1), (6, 5, 8))\n",
    "v = (1,5,5)\n",
    "\n",
    "print(\n",
    "multiply_matrix_vector(m,v))"
   ]
  },
  {
   "cell_type": "code",
   "execution_count": 45,
   "id": "475c35da",
   "metadata": {},
   "outputs": [
    {
     "data": {
      "text/plain": [
       "(4, 3, 2)"
      ]
     },
     "execution_count": 45,
     "metadata": {},
     "output_type": "execute_result"
    }
   ],
   "source": [
    "def compose_a_b(a,b):\n",
    "    def new_function(v):\n",
    "        new_matrix = matrix_multiply(a,b)\n",
    "        return tuple(item[0] for item in\n",
    "                     matrix_multiply(new_matrix,v))\n",
    "    return new_function\n",
    "\n",
    "a = ((1,1,0),(1,0,1),(1,-1,1))\n",
    "b = ((0,2,1),(0,1,0),(1,0,-1))\n",
    "\n",
    "v = ((1,),(1,),(1,))\n",
    "\n",
    "matrix_multiply(a,b)\n",
    "\n",
    "compose_a_b(a,b)(v)\n"
   ]
  },
  {
   "cell_type": "code",
   "execution_count": null,
   "id": "79620676",
   "metadata": {},
   "outputs": [],
   "source": []
  }
 ],
 "metadata": {
  "kernelspec": {
   "display_name": "Python 3",
   "language": "python",
   "name": "python3"
  },
  "language_info": {
   "codemirror_mode": {
    "name": "ipython",
    "version": 3
   },
   "file_extension": ".py",
   "mimetype": "text/x-python",
   "name": "python",
   "nbconvert_exporter": "python",
   "pygments_lexer": "ipython3",
   "version": "3.13.3"
  }
 },
 "nbformat": 4,
 "nbformat_minor": 5
}
