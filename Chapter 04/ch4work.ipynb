{
 "cells": [
  {
   "cell_type": "code",
   "execution_count": 54,
   "metadata": {},
   "outputs": [],
   "source": [
    "from vectors import scale\n",
    "from teapot import *\n",
    "from draw_model import *\n",
    "from math import *\n",
    "from matplotlib import pyplot as plt"
   ]
  },
  {
   "cell_type": "code",
   "execution_count": 55,
   "metadata": {},
   "outputs": [],
   "source": [
    "def scale2(v):\n",
    "    return scale(2.0, v)\n"
   ]
  },
  {
   "cell_type": "code",
   "execution_count": 56,
   "metadata": {},
   "outputs": [],
   "source": [
    "original_triangles = load_triangles()\n",
    "scaled_triangles = [\n",
    "    [scale2(vertex) for vertex in triangle]\n",
    "    for triangle in original_triangles\n",
    "]"
   ]
  },
  {
   "cell_type": "code",
   "execution_count": 57,
   "metadata": {},
   "outputs": [
    {
     "ename": "NameError",
     "evalue": "name 'quit' is not defined",
     "output_type": "error",
     "traceback": [
      "\u001b[31m---------------------------------------------------------------------------\u001b[39m",
      "\u001b[31mNameError\u001b[39m                                 Traceback (most recent call last)",
      "\u001b[36mCell\u001b[39m\u001b[36m \u001b[39m\u001b[32mIn[57]\u001b[39m\u001b[32m, line 1\u001b[39m\n\u001b[32m----> \u001b[39m\u001b[32m1\u001b[39m \u001b[43mdraw_model\u001b[49m\u001b[43m(\u001b[49m\u001b[43mscaled_triangles\u001b[49m\u001b[43m)\u001b[49m\n",
      "\u001b[36mFile \u001b[39m\u001b[32mc:\\Users\\scott\\OneDrive\\Documents\\GitHub\\Math-for-Programmers\\Chapter 04\\draw_model.py:53\u001b[39m, in \u001b[36mdraw_model\u001b[39m\u001b[34m(faces, color_map, light, glRotatefArgs, get_matrix)\u001b[39m\n\u001b[32m     51\u001b[39m     \u001b[38;5;28;01mif\u001b[39;00m event.type == pygame.QUIT:\n\u001b[32m     52\u001b[39m         pygame.quit()\n\u001b[32m---> \u001b[39m\u001b[32m53\u001b[39m         \u001b[43mquit\u001b[49m()\n\u001b[32m     55\u001b[39m glClear(GL_COLOR_BUFFER_BIT|GL_DEPTH_BUFFER_BIT)\n\u001b[32m     56\u001b[39m Axes()\n",
      "\u001b[31mNameError\u001b[39m: name 'quit' is not defined"
     ]
    }
   ],
   "source": [
    "draw_model(scaled_triangles)"
   ]
  },
  {
   "cell_type": "code",
   "execution_count": null,
   "metadata": {},
   "outputs": [],
   "source": [
    "def translate_left(v):\n",
    "    return add((-1,0,0), v)\n",
    "\n",
    "left_triangles = [\n",
    "    [translate_left(vertex) for vertex in triangle]\n",
    "    for triangle in original_triangles\n",
    "]"
   ]
  },
  {
   "cell_type": "code",
   "execution_count": null,
   "metadata": {},
   "outputs": [
    {
     "ename": "NameError",
     "evalue": "name 'quit' is not defined",
     "output_type": "error",
     "traceback": [
      "\u001b[31m---------------------------------------------------------------------------\u001b[39m",
      "\u001b[31mNameError\u001b[39m                                 Traceback (most recent call last)",
      "\u001b[36mCell\u001b[39m\u001b[36m \u001b[39m\u001b[32mIn[8]\u001b[39m\u001b[32m, line 6\u001b[39m\n\u001b[32m      1\u001b[39m scaled_translated_triangles = [\n\u001b[32m      2\u001b[39m     [translate_left(scale2(v)) \u001b[38;5;28;01mfor\u001b[39;00m v \u001b[38;5;129;01min\u001b[39;00m triangle]\n\u001b[32m      3\u001b[39m     \u001b[38;5;28;01mfor\u001b[39;00m triangle \u001b[38;5;129;01min\u001b[39;00m original_triangles\n\u001b[32m      4\u001b[39m ]\n\u001b[32m----> \u001b[39m\u001b[32m6\u001b[39m \u001b[43mdraw_model\u001b[49m\u001b[43m(\u001b[49m\u001b[43mscaled_translated_triangles\u001b[49m\u001b[43m)\u001b[49m\n",
      "\u001b[36mFile \u001b[39m\u001b[32mc:\\Users\\scott\\OneDrive\\Documents\\GitHub\\Math-for-Programmers\\Chapter 04\\draw_model.py:53\u001b[39m, in \u001b[36mdraw_model\u001b[39m\u001b[34m(faces, color_map, light, glRotatefArgs, get_matrix)\u001b[39m\n\u001b[32m     51\u001b[39m     \u001b[38;5;28;01mif\u001b[39;00m event.type == pygame.QUIT:\n\u001b[32m     52\u001b[39m         pygame.quit()\n\u001b[32m---> \u001b[39m\u001b[32m53\u001b[39m         \u001b[43mquit\u001b[49m()\n\u001b[32m     55\u001b[39m glClear(GL_COLOR_BUFFER_BIT|GL_DEPTH_BUFFER_BIT)\n\u001b[32m     56\u001b[39m Axes()\n",
      "\u001b[31mNameError\u001b[39m: name 'quit' is not defined"
     ]
    }
   ],
   "source": [
    "scaled_translated_triangles = [\n",
    "    [translate_left(scale2(v)) for v in triangle]\n",
    "    for triangle in original_triangles\n",
    "]\n",
    "\n",
    "draw_model(scaled_translated_triangles)"
   ]
  },
  {
   "cell_type": "code",
   "execution_count": null,
   "metadata": {},
   "outputs": [],
   "source": []
  },
  {
   "cell_type": "code",
   "execution_count": null,
   "metadata": {},
   "outputs": [
    {
     "name": "stdout",
     "output_type": "stream",
     "text": [
      "64\n"
     ]
    }
   ],
   "source": [
    "def compose(*args):\n",
    "    def new_function(input):\n",
    "        result = input\n",
    "        for arg in reversed(args):\n",
    "            result = arg(result)\n",
    "        return result\n",
    "    return new_function\n",
    "\n",
    "def add_one(x):\n",
    "    return x + 1\n",
    "\n",
    "def multiply_by_two(x):\n",
    "    return x * 2\n",
    "\n",
    "def square(x):\n",
    "    return x * x\n",
    "\n",
    "composed_function = compose(square, multiply_by_two, add_one)\n",
    "\n",
    "print(composed_function(3))"
   ]
  },
  {
   "cell_type": "code",
   "execution_count": null,
   "metadata": {},
   "outputs": [],
   "source": [
    "scale2_then_translate_left = compose(translate_left,scale2)"
   ]
  },
  {
   "cell_type": "code",
   "execution_count": null,
   "metadata": {},
   "outputs": [],
   "source": [
    "def polygon_map(transformation, polygons):\n",
    "    return [\n",
    "        [transformation(vertex) for vertex in triangle]\n",
    "        for triangle in polygons\n",
    "    ]"
   ]
  },
  {
   "cell_type": "code",
   "execution_count": null,
   "metadata": {},
   "outputs": [],
   "source": [
    "def scale_by(scalar):\n",
    "    def new_function(v):\n",
    "        return scale(scalar, v)\n",
    "    return new_function"
   ]
  },
  {
   "cell_type": "code",
   "execution_count": null,
   "metadata": {},
   "outputs": [],
   "source": [
    "def translate_by(vector):\n",
    "    def new_function(v):\n",
    "        return add(vector, v)\n",
    "    return new_function"
   ]
  },
  {
   "cell_type": "code",
   "execution_count": null,
   "metadata": {},
   "outputs": [],
   "source": [
    "def rotate2d(angle, vector):\n",
    "    l,a = to_polar(vector)\n",
    "    return to_cartesian((l, a+angle))"
   ]
  },
  {
   "cell_type": "code",
   "execution_count": null,
   "metadata": {},
   "outputs": [],
   "source": [
    "def rotate_z(angle, vector):\n",
    "    x,y,z = vector\n",
    "    new_x, new_y = rotate2d(angle, (x,y))\n",
    "    return new_x, new_y, z\n",
    "\n",
    "def rotate_z_by(angle):\n",
    "    def new_function(v):\n",
    "        return rotate_z(angle, v)\n",
    "    return new_function\n",
    "\n",
    "def rotate_x(angle, vector):\n",
    "    x,y,z = vector\n",
    "    new_y, new_z = rotate2d(angle, (y,z))\n",
    "    return x, new_y, new_z\n",
    "\n",
    "def rotate_x_by(angle):\n",
    "    def new_function(v):\n",
    "        return rotate_x(angle, v)\n",
    "    return new_function\n",
    "\n",
    "def rotate_y(angle, vector):\n",
    "    x,y,z = vector\n",
    "    new_x, new_z = rotate2d(angle, (x,z))\n",
    "    return new_x, y, new_z\n",
    "\n",
    "def rotate_y_by(angle):\n",
    "    def new_function(v):\n",
    "        return rotate_y(angle, v)\n",
    "    return new_function\n"
   ]
  },
  {
   "cell_type": "code",
   "execution_count": null,
   "metadata": {},
   "outputs": [
    {
     "ename": "NameError",
     "evalue": "name 'quit' is not defined",
     "output_type": "error",
     "traceback": [
      "\u001b[31m---------------------------------------------------------------------------\u001b[39m",
      "\u001b[31mNameError\u001b[39m                                 Traceback (most recent call last)",
      "\u001b[36mCell\u001b[39m\u001b[36m \u001b[39m\u001b[32mIn[16]\u001b[39m\u001b[32m, line 2\u001b[39m\n\u001b[32m      1\u001b[39m \u001b[38;5;66;03m#exercise 4.2\u001b[39;00m\n\u001b[32m----> \u001b[39m\u001b[32m2\u001b[39m \u001b[43mdraw_model\u001b[49m\u001b[43m(\u001b[49m\u001b[43mpolygon_map\u001b[49m\u001b[43m(\u001b[49m\u001b[43mtranslate_by\u001b[49m\u001b[43m(\u001b[49m\u001b[43m(\u001b[49m\u001b[32;43m0\u001b[39;49m\u001b[43m,\u001b[49m\u001b[32;43m0\u001b[39;49m\u001b[43m,\u001b[49m\u001b[43m-\u001b[49m\u001b[32;43m20\u001b[39;49m\u001b[43m)\u001b[49m\u001b[43m)\u001b[49m\u001b[43m,\u001b[49m\u001b[43m \u001b[49m\u001b[43mload_triangles\u001b[49m\u001b[43m(\u001b[49m\u001b[43m)\u001b[49m\u001b[43m)\u001b[49m\u001b[43m)\u001b[49m\n",
      "\u001b[36mFile \u001b[39m\u001b[32mc:\\Users\\scott\\OneDrive\\Documents\\GitHub\\Math-for-Programmers\\Chapter 04\\draw_model.py:53\u001b[39m, in \u001b[36mdraw_model\u001b[39m\u001b[34m(faces, color_map, light, glRotatefArgs, get_matrix)\u001b[39m\n\u001b[32m     51\u001b[39m     \u001b[38;5;28;01mif\u001b[39;00m event.type == pygame.QUIT:\n\u001b[32m     52\u001b[39m         pygame.quit()\n\u001b[32m---> \u001b[39m\u001b[32m53\u001b[39m         \u001b[43mquit\u001b[49m()\n\u001b[32m     55\u001b[39m glClear(GL_COLOR_BUFFER_BIT|GL_DEPTH_BUFFER_BIT)\n\u001b[32m     56\u001b[39m Axes()\n",
      "\u001b[31mNameError\u001b[39m: name 'quit' is not defined"
     ]
    }
   ],
   "source": [
    "#exercise 4.2\n",
    "draw_model(polygon_map(translate_by((0,0,-20)), load_triangles()))"
   ]
  },
  {
   "cell_type": "code",
   "execution_count": null,
   "metadata": {},
   "outputs": [
    {
     "ename": "NameError",
     "evalue": "name 'quit' is not defined",
     "output_type": "error",
     "traceback": [
      "\u001b[31m---------------------------------------------------------------------------\u001b[39m",
      "\u001b[31mNameError\u001b[39m                                 Traceback (most recent call last)",
      "\u001b[36mCell\u001b[39m\u001b[36m \u001b[39m\u001b[32mIn[40]\u001b[39m\u001b[32m, line 1\u001b[39m\n\u001b[32m----> \u001b[39m\u001b[32m1\u001b[39m \u001b[43mdraw_model\u001b[49m\u001b[43m(\u001b[49m\u001b[43mpolygon_map\u001b[49m\u001b[43m(\u001b[49m\u001b[43mscale_by\u001b[49m\u001b[43m(\u001b[49m\u001b[32;43m.1\u001b[39;49m\u001b[43m)\u001b[49m\u001b[43m,\u001b[49m\u001b[43m \u001b[49m\u001b[43mload_triangles\u001b[49m\u001b[43m(\u001b[49m\u001b[43m)\u001b[49m\u001b[43m)\u001b[49m\u001b[43m)\u001b[49m\n",
      "\u001b[36mFile \u001b[39m\u001b[32mc:\\Users\\scott\\OneDrive\\Documents\\GitHub\\Math-for-Programmers\\Chapter 04\\draw_model.py:53\u001b[39m, in \u001b[36mdraw_model\u001b[39m\u001b[34m(faces, color_map, light, glRotatefArgs, get_matrix)\u001b[39m\n\u001b[32m     51\u001b[39m     \u001b[38;5;28;01mif\u001b[39;00m event.type == pygame.QUIT:\n\u001b[32m     52\u001b[39m         pygame.quit()\n\u001b[32m---> \u001b[39m\u001b[32m53\u001b[39m         \u001b[43mquit\u001b[49m()\n\u001b[32m     55\u001b[39m glClear(GL_COLOR_BUFFER_BIT|GL_DEPTH_BUFFER_BIT)\n\u001b[32m     56\u001b[39m Axes()\n",
      "\u001b[31mNameError\u001b[39m: name 'quit' is not defined"
     ]
    }
   ],
   "source": [
    "draw_model(polygon_map(scale_by(.1), load_triangles()))"
   ]
  },
  {
   "cell_type": "code",
   "execution_count": null,
   "metadata": {},
   "outputs": [
    {
     "ename": "NameError",
     "evalue": "name 'quit' is not defined",
     "output_type": "error",
     "traceback": [
      "\u001b[31m---------------------------------------------------------------------------\u001b[39m",
      "\u001b[31mNameError\u001b[39m                                 Traceback (most recent call last)",
      "\u001b[36mCell\u001b[39m\u001b[36m \u001b[39m\u001b[32mIn[17]\u001b[39m\u001b[32m, line 1\u001b[39m\n\u001b[32m----> \u001b[39m\u001b[32m1\u001b[39m \u001b[43mdraw_model\u001b[49m\u001b[43m(\u001b[49m\u001b[43mpolygon_map\u001b[49m\u001b[43m(\u001b[49m\u001b[43mcompose\u001b[49m\u001b[43m(\u001b[49m\u001b[43mscale2\u001b[49m\u001b[43m,\u001b[49m\u001b[43m \u001b[49m\u001b[43mtranslate_left\u001b[49m\u001b[43m)\u001b[49m\u001b[43m,\u001b[49m\u001b[43m \u001b[49m\u001b[43mload_triangles\u001b[49m\u001b[43m(\u001b[49m\u001b[43m)\u001b[49m\u001b[43m)\u001b[49m\u001b[43m)\u001b[49m\n",
      "\u001b[36mFile \u001b[39m\u001b[32mc:\\Users\\scott\\OneDrive\\Documents\\GitHub\\Math-for-Programmers\\Chapter 04\\draw_model.py:53\u001b[39m, in \u001b[36mdraw_model\u001b[39m\u001b[34m(faces, color_map, light, glRotatefArgs, get_matrix)\u001b[39m\n\u001b[32m     51\u001b[39m     \u001b[38;5;28;01mif\u001b[39;00m event.type == pygame.QUIT:\n\u001b[32m     52\u001b[39m         pygame.quit()\n\u001b[32m---> \u001b[39m\u001b[32m53\u001b[39m         \u001b[43mquit\u001b[49m()\n\u001b[32m     55\u001b[39m glClear(GL_COLOR_BUFFER_BIT|GL_DEPTH_BUFFER_BIT)\n\u001b[32m     56\u001b[39m Axes()\n",
      "\u001b[31mNameError\u001b[39m: name 'quit' is not defined"
     ]
    }
   ],
   "source": [
    "draw_model(polygon_map(compose(scale2, translate_left), load_triangles()))"
   ]
  },
  {
   "cell_type": "code",
   "execution_count": null,
   "metadata": {},
   "outputs": [
    {
     "ename": "NameError",
     "evalue": "name 'quit' is not defined",
     "output_type": "error",
     "traceback": [
      "\u001b[31m---------------------------------------------------------------------------\u001b[39m",
      "\u001b[31mNameError\u001b[39m                                 Traceback (most recent call last)",
      "\u001b[36mCell\u001b[39m\u001b[36m \u001b[39m\u001b[32mIn[26]\u001b[39m\u001b[32m, line 1\u001b[39m\n\u001b[32m----> \u001b[39m\u001b[32m1\u001b[39m \u001b[43mdraw_model\u001b[49m\u001b[43m(\u001b[49m\u001b[43mpolygon_map\u001b[49m\u001b[43m(\u001b[49m\u001b[43mcompose\u001b[49m\u001b[43m(\u001b[49m\u001b[43mscale_by\u001b[49m\u001b[43m(\u001b[49m\u001b[32;43m0.4\u001b[39;49m\u001b[43m)\u001b[49m\u001b[43m,\u001b[49m\u001b[43mscale_by\u001b[49m\u001b[43m(\u001b[49m\u001b[32;43m1.5\u001b[39;49m\u001b[43m)\u001b[49m\u001b[43m)\u001b[49m\u001b[43m,\u001b[49m\u001b[43mload_triangles\u001b[49m\u001b[43m(\u001b[49m\u001b[43m)\u001b[49m\u001b[43m)\u001b[49m\u001b[43m)\u001b[49m\n",
      "\u001b[36mFile \u001b[39m\u001b[32mc:\\Users\\scott\\OneDrive\\Documents\\GitHub\\Math-for-Programmers\\Chapter 04\\draw_model.py:53\u001b[39m, in \u001b[36mdraw_model\u001b[39m\u001b[34m(faces, color_map, light, glRotatefArgs, get_matrix)\u001b[39m\n\u001b[32m     51\u001b[39m     \u001b[38;5;28;01mif\u001b[39;00m event.type == pygame.QUIT:\n\u001b[32m     52\u001b[39m         pygame.quit()\n\u001b[32m---> \u001b[39m\u001b[32m53\u001b[39m         \u001b[43mquit\u001b[49m()\n\u001b[32m     55\u001b[39m glClear(GL_COLOR_BUFFER_BIT|GL_DEPTH_BUFFER_BIT)\n\u001b[32m     56\u001b[39m Axes()\n",
      "\u001b[31mNameError\u001b[39m: name 'quit' is not defined"
     ]
    }
   ],
   "source": [
    "draw_model(polygon_map(compose(scale_by(0.4),scale_by(1.5)),load_triangles()))"
   ]
  },
  {
   "cell_type": "code",
   "execution_count": null,
   "metadata": {},
   "outputs": [],
   "source": [
    "#past curry example:\n",
    "# def scale_by(scalar):\n",
    "##  def new_function(v):\n",
    "###     return scale(scalar, v)\n",
    "##  return new_function\n",
    "\n",
    "#g = curry2(f) -- f(x,y) and g(x)(y) should return the same result\n",
    "def curry2(f):\n",
    "   def g(x):\n",
    "      def new_function(y):\n",
    "         return f(x,y)\n",
    "      return new_function\n",
    "   return g\n",
    "\n"
   ]
  },
  {
   "cell_type": "code",
   "execution_count": null,
   "metadata": {},
   "outputs": [
    {
     "data": {
      "text/plain": [
       "(2, 4, 6)"
      ]
     },
     "execution_count": 34,
     "metadata": {},
     "output_type": "execute_result"
    }
   ],
   "source": [
    "scale_by = curry2(scale)\n",
    "scale_by(2)((1,2,3))"
   ]
  },
  {
   "cell_type": "code",
   "execution_count": null,
   "metadata": {},
   "outputs": [],
   "source": [
    "#exercise 4.9\n",
    "def stretch_x(scalar, vector):\n",
    "    new_x = scalar * vector[0]\n",
    "    return (new_x, vector[1], vector[2])\n",
    "\n",
    "def stretch_x_by(scalar):\n",
    "    def new_function(vector):\n",
    "        return stretch_x(scalar, vector)\n",
    "    return new_function"
   ]
  },
  {
   "cell_type": "code",
   "execution_count": null,
   "metadata": {},
   "outputs": [
    {
     "data": {
      "text/plain": [
       "(2, 1, 1)"
      ]
     },
     "execution_count": 45,
     "metadata": {},
     "output_type": "execute_result"
    }
   ],
   "source": [
    "stretch_x_by(2)((1,1,1))\n"
   ]
  },
  {
   "cell_type": "code",
   "execution_count": null,
   "metadata": {},
   "outputs": [
    {
     "ename": "NameError",
     "evalue": "name 'quit' is not defined",
     "output_type": "error",
     "traceback": [
      "\u001b[31m---------------------------------------------------------------------------\u001b[39m",
      "\u001b[31mNameError\u001b[39m                                 Traceback (most recent call last)",
      "\u001b[36mCell\u001b[39m\u001b[36m \u001b[39m\u001b[32mIn[5]\u001b[39m\u001b[32m, line 12\u001b[39m\n\u001b[32m      5\u001b[39m \u001b[38;5;28;01mdef\u001b[39;00m\u001b[38;5;250m \u001b[39m\u001b[34mapply_A\u001b[39m(v):\n\u001b[32m      6\u001b[39m     \u001b[38;5;28;01mreturn\u001b[39;00m add(\n\u001b[32m      7\u001b[39m         scale(v[\u001b[32m0\u001b[39m], Ae1),\n\u001b[32m      8\u001b[39m         scale(v[\u001b[32m1\u001b[39m], Ae2),\n\u001b[32m      9\u001b[39m         scale(v[\u001b[32m2\u001b[39m], Ae3)\n\u001b[32m     10\u001b[39m     )\n\u001b[32m---> \u001b[39m\u001b[32m12\u001b[39m \u001b[43mdraw_model\u001b[49m\u001b[43m(\u001b[49m\u001b[43mpolygon_map\u001b[49m\u001b[43m(\u001b[49m\u001b[43mapply_A\u001b[49m\u001b[43m,\u001b[49m\u001b[43m \u001b[49m\u001b[43mload_triangles\u001b[49m\u001b[43m(\u001b[49m\u001b[43m)\u001b[49m\u001b[43m)\u001b[49m\u001b[43m)\u001b[49m\n",
      "\u001b[36mFile \u001b[39m\u001b[32mc:\\Users\\scott\\OneDrive\\Documents\\GitHub\\Math-for-Programmers\\Chapter 04\\draw_model.py:53\u001b[39m, in \u001b[36mdraw_model\u001b[39m\u001b[34m(faces, color_map, light, glRotatefArgs, get_matrix)\u001b[39m\n\u001b[32m     51\u001b[39m     \u001b[38;5;28;01mif\u001b[39;00m event.type == pygame.QUIT:\n\u001b[32m     52\u001b[39m         pygame.quit()\n\u001b[32m---> \u001b[39m\u001b[32m53\u001b[39m         \u001b[43mquit\u001b[49m()\n\u001b[32m     55\u001b[39m glClear(GL_COLOR_BUFFER_BIT|GL_DEPTH_BUFFER_BIT)\n\u001b[32m     56\u001b[39m Axes()\n",
      "\u001b[31mNameError\u001b[39m: name 'quit' is not defined"
     ]
    }
   ],
   "source": [
    "Ae1 = (1,1,1)\n",
    "Ae2 = (1,0,-1)\n",
    "Ae3 = (0,1,1)\n",
    "\n",
    "def apply_A(v):\n",
    "    return add(\n",
    "        scale(v[0], Ae1),\n",
    "        scale(v[1], Ae2),\n",
    "        scale(v[2], Ae3)\n",
    "    )\n",
    "\n",
    "draw_model(polygon_map(apply_A, load_triangles()))"
   ]
  },
  {
   "cell_type": "code",
   "execution_count": null,
   "metadata": {},
   "outputs": [
    {
     "data": {
      "text/plain": [
       "<matplotlib.collections.PathCollection at 0x2d405c28980>"
      ]
     },
     "execution_count": 10,
     "metadata": {},
     "output_type": "execute_result"
    },
    {
     "data": {
      "image/png": "[encoded data removed]",
      "text/plain": [
       "<Figure size 640x480 with 1 Axes>"
      ]
     },
     "metadata": {},
     "output_type": "display_data"
    }
   ],
   "source": [
    "import matplotlib.pyplot as plt\n",
    "x_values = [5,-2,1.5]\n",
    "y_values = [3,1,2]\n",
    "plt.scatter(x_values,y_values)"
   ]
  },
  {
   "cell_type": "code",
   "execution_count": null,
   "metadata": {},
   "outputs": [
    {
     "data": {
      "text/plain": [
       "[<matplotlib.lines.Line2D at 0x2d405d90e10>]"
      ]
     },
     "execution_count": 12,
     "metadata": {},
     "output_type": "execute_result"
    },
    {
     "data": {
      "image/png": "[encoded data removed]",
      "text/plain": [
       "<Figure size 640x480 with 1 Axes>"
      ]
     },
     "metadata": {},
     "output_type": "display_data"
    }
   ],
   "source": [
    "plt.plot(x_values,y_values, marker=\"o\")"
   ]
  },
  {
   "cell_type": "code",
   "execution_count": null,
   "metadata": {},
   "outputs": [
    {
     "data": {
      "text/plain": [
       "<matplotlib.collections.PathCollection at 0x2d406040f50>"
      ]
     },
     "execution_count": 16,
     "metadata": {},
     "output_type": "execute_result"
    },
    {
     "data": {
      "image/png": "[encoded data removed]",
      "text/plain": [
       "<Figure size 640x480 with 1 Axes>"
      ]
     },
     "metadata": {},
     "output_type": "display_data"
    }
   ],
   "source": [
    "points = [(x**2,y**2) for x in range(0,6) for y in range(0,6)]\n",
    "plt.scatter([point[0] for point in points], [point[1] for point in points])"
   ]
  },
  {
   "cell_type": "code",
   "execution_count": null,
   "metadata": {},
   "outputs": [
    {
     "name": "stdout",
     "output_type": "stream",
     "text": [
      "called with0\n",
      "called with129\n",
      "called with12\n",
      "called with14647\n",
      "called with-6493714913397955032\n",
      "called with-14079\n",
      "called with16412\n",
      "called with1129447163\n",
      "called with34418\n",
      "called with55\n",
      "called with-79\n",
      "called with654\n",
      "called with-9482\n",
      "called with-112\n",
      "called with-7841\n",
      "called with744986461\n",
      "called with-10063\n",
      "called with20367\n",
      "called with-13144\n",
      "called with-25929\n",
      "called with5364150508216762480\n",
      "called with-2962\n",
      "called with-2380\n",
      "called with-11361\n",
      "called with83\n",
      "called with-83330843444285139837514417829946227757\n",
      "called with20184\n",
      "called with3770\n",
      "called with-4523\n",
      "called with13215\n",
      "called with-24319\n",
      "called with-8092\n",
      "called with-17323\n",
      "called with71\n",
      "called with6848\n",
      "called with-103\n",
      "called with-64\n",
      "called with16842\n",
      "called with-5102\n",
      "called with-10584\n",
      "called with-669230069\n",
      "called with28959\n",
      "called with23\n",
      "called with32202\n",
      "called with23932\n",
      "called with102\n",
      "called with263\n",
      "called with37294\n",
      "called with21795\n",
      "called with-100\n",
      "called with7259\n",
      "called with-3092\n",
      "called with17\n",
      "called with18692\n",
      "called with-91\n",
      "called with-7690849053656651682\n",
      "called with28427\n",
      "called with27453\n",
      "called with953702556\n",
      "called with-15087\n",
      "called with-11039\n",
      "called with19309\n",
      "called with5437\n",
      "called with-71\n",
      "called with-27182\n",
      "called with25537\n",
      "called with-75\n",
      "called with-22741\n",
      "called with-32\n",
      "called with-84\n",
      "called with30825\n",
      "called with32598\n",
      "called with8494065107508230869\n",
      "called with15\n",
      "called with-47\n",
      "called with-6869782247513731755\n",
      "called with-24148\n",
      "called with1\n",
      "called with97942287448847169683919972132365016554\n",
      "called with-4876\n",
      "called with25145\n",
      "called with29\n",
      "called with-54\n",
      "called with2527\n",
      "called with52\n",
      "called with-31232\n",
      "called with-3575\n",
      "called with97\n",
      "called with9203\n",
      "called with-24890\n",
      "called with86\n",
      "called with-83\n",
      "called with70\n",
      "called with6028204427179252407\n",
      "called with-122909179\n",
      "called with-32154\n",
      "called with57\n",
      "called with-25\n",
      "called with19420\n",
      "called with-18937\n"
     ]
    }
   ],
   "source": [
    "from hypothesis import given, strategies as st\n",
    "\n",
    "@given(st.integers())\n",
    "def test_integers(n):\n",
    "    print(f\"called with {n}\")\n",
    "    assert isinstance(n, int)\n",
    "\n",
    "test_integers()"
   ]
  },
  {
   "cell_type": "code",
   "execution_count": null,
   "metadata": {},
   "outputs": [
    {
     "ename": "TypeError",
     "evalue": "unsupported operand type(s) for ** or pow(): 'tuple' and 'int'",
     "output_type": "error",
     "traceback": [
      "\u001b[31m---------------------------------------------------------------------------\u001b[39m",
      "\u001b[31mTypeError\u001b[39m                                 Traceback (most recent call last)",
      "\u001b[36mCell\u001b[39m\u001b[36m \u001b[39m\u001b[32mIn[32]\u001b[39m\u001b[32m, line 7\u001b[39m\n\u001b[32m      2\u001b[39m \u001b[38;5;129m@given\u001b[39m(v1=st.tuples(st.integers(max_value=\u001b[32m20\u001b[39m), st.integers(max_value=\u001b[32m20\u001b[39m)),\n\u001b[32m      3\u001b[39m        v2=st.tuples(st.integers(max_value=\u001b[32m20\u001b[39m), st.integers(max_value=\u001b[32m20\u001b[39m)))\n\u001b[32m      4\u001b[39m \u001b[38;5;28;01mdef\u001b[39;00m\u001b[38;5;250m \u001b[39m\u001b[34mtest_transformation\u001b[39m(v1, v2):\n\u001b[32m      5\u001b[39m     \u001b[38;5;28;01massert\u001b[39;00m add(v1**\u001b[32m2\u001b[39m, v2**\u001b[32m2\u001b[39m) == add(v1, v2)**\u001b[32m2\u001b[39m\n\u001b[32m----> \u001b[39m\u001b[32m7\u001b[39m \u001b[43mtest_transformation\u001b[49m\u001b[43m(\u001b[49m\u001b[43m)\u001b[49m\n",
      "\u001b[36mCell\u001b[39m\u001b[36m \u001b[39m\u001b[32mIn[32]\u001b[39m\u001b[32m, line 3\u001b[39m, in \u001b[36mtest_transformation\u001b[39m\u001b[34m()\u001b[39m\n\u001b[32m      1\u001b[39m vectors = [(x,y) \u001b[38;5;28;01mfor\u001b[39;00m x \u001b[38;5;129;01min\u001b[39;00m \u001b[38;5;28mrange\u001b[39m(\u001b[32m0\u001b[39m,\u001b[32m20\u001b[39m) \u001b[38;5;28;01mfor\u001b[39;00m y \u001b[38;5;129;01min\u001b[39;00m \u001b[38;5;28mrange\u001b[39m(\u001b[32m0\u001b[39m,\u001b[32m20\u001b[39m)]\n\u001b[32m      2\u001b[39m \u001b[38;5;129m@given\u001b[39m(v1=st.tuples(st.integers(max_value=\u001b[32m20\u001b[39m), st.integers(max_value=\u001b[32m20\u001b[39m)),\n\u001b[32m----> \u001b[39m\u001b[32m3\u001b[39m        v2=st.tuples(st.integers(max_value=\u001b[32m20\u001b[39m), st.integers(max_value=\u001b[32m20\u001b[39m)))\n\u001b[32m      4\u001b[39m \u001b[38;5;28;01mdef\u001b[39;00m\u001b[38;5;250m \u001b[39m\u001b[34mtest_transformation\u001b[39m(v1, v2):\n\u001b[32m      5\u001b[39m     \u001b[38;5;28;01massert\u001b[39;00m add(v1**\u001b[32m2\u001b[39m, v2**\u001b[32m2\u001b[39m) == add(v1, v2)**\u001b[32m2\u001b[39m\n\u001b[32m      7\u001b[39m test_transformation()\n",
      "    \u001b[31m[... skipping hidden 1 frame]\u001b[39m\n",
      "\u001b[36mCell\u001b[39m\u001b[36m \u001b[39m\u001b[32mIn[32]\u001b[39m\u001b[32m, line 5\u001b[39m, in \u001b[36mtest_transformation\u001b[39m\u001b[34m(v1, v2)\u001b[39m\n\u001b[32m      2\u001b[39m \u001b[38;5;129m@given\u001b[39m(v1=st.tuples(st.integers(max_value=\u001b[32m20\u001b[39m), st.integers(max_value=\u001b[32m20\u001b[39m)),\n\u001b[32m      3\u001b[39m        v2=st.tuples(st.integers(max_value=\u001b[32m20\u001b[39m), st.integers(max_value=\u001b[32m20\u001b[39m)))\n\u001b[32m      4\u001b[39m \u001b[38;5;28;01mdef\u001b[39;00m\u001b[38;5;250m \u001b[39m\u001b[34mtest_transformation\u001b[39m(v1, v2):\n\u001b[32m----> \u001b[39m\u001b[32m5\u001b[39m     \u001b[38;5;28;01massert\u001b[39;00m add(\u001b[43mv1\u001b[49m\u001b[43m*\u001b[49m\u001b[43m*\u001b[49m\u001b[32;43m2\u001b[39;49m, v2**\u001b[32m2\u001b[39m) == add(v1, v2)**\u001b[32m2\u001b[39m\n",
      "\u001b[31mTypeError\u001b[39m: unsupported operand type(s) for ** or pow(): 'tuple' and 'int'",
      "Falsifying example: test_transformation(\n    # The test always failed when commented parts were varied together.\n    v1=(0, 0),  # or any other generated value\n    v2=(0, 0),  # or any other generated value\n)",
      "Explanation:",
      "    These lines were always and only run by failing examples:",
      "        C:\\Users\\scott\\AppData\\Local\\Temp\\ipykernel_23316\\3815246421.py:5",
      "        C:\\Program Files\\WindowsApps\\PythonSoftwareFoundation.Python.3.13_3.13.1008.0_x64__qbz5n2kfra8p0\\Lib\\_weakrefset.py:22",
      "        C:\\Program Files\\WindowsApps\\PythonSoftwareFoundation.Python.3.13_3.13.1008.0_x64__qbz5n2kfra8p0\\Lib\\weakref.py:415"
     ]
    }
   ],
   "source": [
    "vectors = [(x,y) for x in range(0,20) for y in range(0,20)]\n",
    "@given(v1=st.tuples(st.integers(max_value=20), st.integers(max_value=20)),\n",
    "       v2=st.tuples(st.integers(max_value=20), st.integers(max_value=20)))\n",
    "def test_transformation(v1, v2):\n",
    "    assert add(v1**2, v2**2) == add(v1, v2)**2\n",
    "\n",
    "test_transformation()"
   ]
  },
  {
   "cell_type": "code",
   "execution_count": null,
   "metadata": {},
   "outputs": [
    {
     "data": {
      "text/plain": [
       "[<matplotlib.lines.Line2D at 0x2d415a61950>]"
      ]
     },
     "execution_count": 45,
     "metadata": {},
     "output_type": "execute_result"
    },
    {
     "data": {
      "image/png": "[encoded data removed]",
      "text/plain": [
       "<Figure size 1000x1000 with 1 Axes>"
      ]
     },
     "metadata": {},
     "output_type": "display_data"
    }
   ],
   "source": [
    "#exercise 4.16\n",
    "import sys\n",
    "sys.path.insert(0, )\n",
    "vectors = [(4,6), (1,2), add((4,6),(1,2))]\n",
    "plt.ylim(-10,10)\n",
    "plt.xlim(-10,10)\n",
    "plt.gcf().set_size_inches(10,10)\n",
    "plt.axis([-10,10,-10,10])\n",
    "plt.plot([vector[0] for vector in vectors], [vector[1] for vector in vectors],\n",
    "          marker=\"o\")\n"
   ]
  },
  {
   "cell_type": "markdown",
   "metadata": {},
   "source": [
    "#exercise 4.17\n",
    "S and T are both linear transformations.\n",
    "That means that for any vectors v and u,\n",
    "    S(v)+S(u)=S(v+u), and S(sv)=sS(v)\n",
    "Now, S(v) is a vector w, and S(u) is a vector t\n",
    "Substituting, we have due to T being linear:\n",
    "    T(S(v))+T(S(u))=T(S(v+u)) = T(w) + T(t) = T(w+t), which is just the\n",
    "    composition of S and T.\n",
    "Now, we also have:\n",
    "    S(sv)=sw\n",
    "Since T is linear, we have\n",
    "    T(sw)=sT(w), which is also the composition of S and T. QED\n"
   ]
  },
  {
   "cell_type": "code",
   "execution_count": null,
   "metadata": {},
   "outputs": [
    {
     "data": {
      "text/plain": [
       "(1, 2, 3)"
      ]
     },
     "execution_count": 39,
     "metadata": {},
     "output_type": "execute_result"
    }
   ],
   "source": [
    "def linear_combination(scalars, *vectors):\n",
    "    return add(*[scale(scalars[i], vectors[i]) for i in range(len(scalars))])\n",
    "\n",
    "linear_combination([1,2,3], (1,0,0), (0,1,0), (0,0,1))"
   ]
  },
  {
   "cell_type": "code",
   "execution_count": 59,
   "metadata": {},
   "outputs": [
    {
     "data": {
      "text/plain": [
       "((2.0, 0.0, 0.0), (0.0, 2.0, 0.0), (0.0, 0.0, 2.0))"
      ]
     },
     "execution_count": 59,
     "metadata": {},
     "output_type": "execute_result"
    }
   ],
   "source": [
    "def transform_standard_basis(transform):\n",
    "    unit_vectors = ((1,0,0), (0,1,0), (0,0,1))\n",
    "    return tuple(map(transform, unit_vectors))\n",
    "\n",
    "transform_standard_basis(scale2)"
   ]
  },
  {
   "cell_type": "code",
   "execution_count": null,
   "metadata": {},
   "outputs": [],
   "source": []
  }
 ],
 "metadata": {
  "kernelspec": {
   "display_name": "Python 3",
   "language": "python",
   "name": "python3"
  },
  "language_info": {
   "codemirror_mode": {
    "name": "ipython",
    "version": 3
   },
   "file_extension": ".py",
   "mimetype": "text/x-python",
   "name": "python",
   "nbconvert_exporter": "python",
   "pygments_lexer": "ipython3",
   "version": "3.13.3"
  }
 },
 "nbformat": 4,
 "nbformat_minor": 2
}
